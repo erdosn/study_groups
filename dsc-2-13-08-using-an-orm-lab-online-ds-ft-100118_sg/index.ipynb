{
 "cells": [
  {
   "cell_type": "markdown",
   "metadata": {},
   "source": [
    "# Using an ORM - Lab\n",
    "\n",
    "## Introduction\n",
    "\n",
    "In this lab, we'll make use of SQLAlchemy to execute CRUD operations on a SQL database!\n",
    "\n",
    "## Objectives\n",
    "\n",
    "You will be able to:\n",
    "\n",
    "* Identify the steps needed to use SQLAlchemy with a database\n",
    "    * Build the database using declarative_base class - Britta\n",
    "    * Define features such as id, name, etc, create a primary key and any other relationships - Brian/Britta\n",
    "    * Connect to the database with the engine - Britta\n",
    "    * Build it - Rafael\n",
    "    * Add in rows by using session_maker - Rafael\n",
    "    * add_all(), .new (gives us status update), .commit() commits the changes\n",
    "    \n",
    "* Understand and explain the concept of an Object Relational Mapper\n",
    "    * define overlapping classes (relational)\n",
    "    * we like ORMs so we can use OOP instead of SQL queries\n",
    "    * security purposes\n",
    "    \n",
    "* Execute CRUD operations on a database using SQLAlchemy\n",
    "    * CRUD (Create, Read, Update and Delete) - Emily\n",
    "\n",
    "## Getting Started\n",
    "\n",
    "In this lesson, we'll make use of our newfound SQLAlchemy knowledge to create a database, populate it with data, and write queries to retrieve objects containing the information we want. \n",
    "\n",
    "We'll start by setting up our database. For this lesson, we're going to create then database described in the following ERD:\n",
    "\n",
    "<img src='erd.png'>\n",
    "\n",
    "\n",
    "**_Question:_**\n",
    "\n",
    "What sort of relationship do customers have with shopping carts? What sort of relationship do shopping carts have with items?\n",
    "\n",
    "Write your answer below this line:\n",
    "________________________________________________________________________________________________________________________________\n",
    "\n",
    "Customers have a 1-to-1 relationship with shopping carts, while shopping carts have 1-to-many relationship with items.\n",
    "\n",
    "\n",
    "### Defining Our Mappings\n",
    "\n",
    "We'll begin by importing everything we need to create our database and structure our mappings so that they look like the tables in the ERD.  \n",
    "\n",
    "In the cell below:\n",
    "\n",
    "* Import everything from sqlalchemy\n",
    "* Import `declarative_base` \n",
    "* Create a `Base` object"
   ]
  },
  {
   "cell_type": "code",
   "execution_count": 2,
   "metadata": {},
   "outputs": [],
   "source": [
    "from sqlalchemy import *\n",
    "from sqlalchemy.ext.declarative import declarative_base\n",
    "from sqlalchemy.orm import relationship\n",
    "from sqlalchemy.orm import Session, sessionmaker"
   ]
  },
  {
   "cell_type": "code",
   "execution_count": 3,
   "metadata": {},
   "outputs": [],
   "source": [
    "Base = declarative_base()"
   ]
  },
  {
   "cell_type": "markdown",
   "metadata": {},
   "source": [
    "Good! Now, since we'll need to define relationships between our tables, we'll need to import one more thing. In the cell below, import `relationship` from sqlalchemy's `orm` module. \n",
    "\n",
    "**_Note_**: Make sure you import `relationship`, not the plural `relationships`!"
   ]
  },
  {
   "cell_type": "code",
   "execution_count": null,
   "metadata": {},
   "outputs": [],
   "source": [
    "# imported above"
   ]
  },
  {
   "cell_type": "markdown",
   "metadata": {},
   "source": [
    "### Creating Our Class Mappings\n",
    "\n",
    "Now that we've created a `Base` object, we can define our classes! \n",
    "\n",
    "In order to set up our classes, we'll need to define:\n",
    "\n",
    "* The `__tablename__` for each class\n",
    "* The attributes of each class, which will be `Column` objects\n",
    "* The `relationship` that each class has to other classes\n",
    "\n",
    "Although we haven't explicitly covered how to create relationships, it's not hard--just a single line of code.  This is a great opportunity to get some practice finding what you need from documentation, and the SQLAlchemy documentation is really informative and easy to understand. \n",
    "\n",
    "We'll be creating a 1-to-1 relationship (Customer <--> ShoppingCart), and a 1-to-many relationship (ShoppingCart <--> Item). Take a look at the documenation for creating relationships and see if you can figure out how to set this up!\n",
    "\n",
    "In the cell below: \n",
    "\n",
    "* Complete the `Customer`, `ShoppingCart`, and `Item` classes. \n",
    "* Give each class the correct table name ('customer', 'shoppingCart', and 'Item')\n",
    "* Define the correct columns for each class, with the appropriate data types, and set the appropriate primary key and foreign keys.\n",
    "* Set the appropriate relationships between classes.\n",
    "\n",
    "**_Hint:_** When setting the relationships, pay attention to the capitalization in the documenation--in some parts, you reference the name of the class, while in others, you reference the name of the table!\n",
    "\n",
    "**_Note:_** Running a cell more than one time will cause a \"Table is already defined\" error.  To fix this, just restart the kernel and run everything again. "
   ]
  },
  {
   "cell_type": "code",
   "execution_count": 4,
   "metadata": {},
   "outputs": [],
   "source": [
    "class Customer(Base):\n",
    "    \"\"\"\n",
    "    This class\n",
    "    id, name, cart_id -> ShoppingCart.id\n",
    "    \"\"\"\n",
    "    __tablename__ = 'customers' # plural for schema\n",
    "    __table_args__ = {\"extend_existing\": True}\n",
    "    \n",
    "    id = Column(Integer, primary_key=True)\n",
    "    name = Column(String)\n",
    "    cart_id = Column(Integer, ForeignKey('shoppingCarts.id')) # creates the relational relationship\n",
    "    \n",
    "    # Create 1-to-1 relationship with ShoppingCart, as shown in the SQLAlchemy documentation\n",
    "    \n",
    "    # relationship between customer and shopping cart\n",
    "    # Call attribute\n",
    "    # Customer.shoppingCart() -> Looks at ShoppingCart table\n",
    "    # uselist = True -> One to Many\n",
    "    # uselist = False -> One to One\n",
    "    # defaults to primary key of relationship table\n",
    "    shoppingCarts = relationship('ShoppingCart', uselist=False, back_populates='customers')"
   ]
  },
  {
   "cell_type": "code",
   "execution_count": 5,
   "metadata": {},
   "outputs": [],
   "source": [
    "class ShoppingCart(Base):\n",
    "    __tablename__ = \"shoppingCarts\"\n",
    "    __table_args__ = {\"extend_existing\": True}\n",
    "\n",
    "    \n",
    "    id = Column(Integer, primary_key=True)\n",
    "    item_id = Column(Integer, ForeignKey('items.id'))\n",
    "    # Create 1-to-1 relationship with Customer\n",
    "    customers = relationship('Customer', uselist=False, back_populates='shoppingCarts')\n",
    "    \n",
    "    # Create 1-to-many relationship with Item\n",
    "    # 1 shopping cart -> many items\n",
    "    items = relationship('Item')"
   ]
  },
  {
   "cell_type": "code",
   "execution_count": 6,
   "metadata": {},
   "outputs": [],
   "source": [
    "class Item(Base):\n",
    "    __tablename__ = \"items\"\n",
    "    \n",
    "    # we don't ever look at an item in many shopping carts\n",
    "    # if we wanted to look at how many shopping carts an item is in\n",
    "    # we would add a foreign shoppingCart.id key\n",
    "    id = Column(Integer, primary_key=True)\n",
    "    description = Column(String)\n",
    "    price = Column(Float)"
   ]
  },
  {
   "cell_type": "markdown",
   "metadata": {},
   "source": [
    "## Creating Our Database\n",
    "\n",
    "Now that we've successfully defined our mappings, we can actually create our database. We'll call our database `shopping_cart.db`. \n",
    "\n",
    "When creating the engine, remember to put `sqlite:///` in front of the name of the database we'll be creating, and also set `echo=True`!\n",
    "\n",
    "In the cell below:\n",
    "\n",
    "* Create an `engine` using the appropriate method. \n",
    "* Use the `create_all()` method found inside of `Base.metadata` and pass in the engine object to create our database!"
   ]
  },
  {
   "cell_type": "code",
   "execution_count": 12,
   "metadata": {},
   "outputs": [
    {
     "name": "stdout",
     "output_type": "stream",
     "text": [
      "2018-11-01 11:07:01,230 INFO sqlalchemy.engine.base.Engine SELECT CAST('test plain returns' AS VARCHAR(60)) AS anon_1\n",
      "2018-11-01 11:07:01,231 INFO sqlalchemy.engine.base.Engine ()\n",
      "2018-11-01 11:07:01,234 INFO sqlalchemy.engine.base.Engine SELECT CAST('test unicode returns' AS VARCHAR(60)) AS anon_1\n",
      "2018-11-01 11:07:01,235 INFO sqlalchemy.engine.base.Engine ()\n",
      "2018-11-01 11:07:01,237 INFO sqlalchemy.engine.base.Engine PRAGMA table_info(\"customers\")\n",
      "2018-11-01 11:07:01,239 INFO sqlalchemy.engine.base.Engine ()\n",
      "2018-11-01 11:07:01,241 INFO sqlalchemy.engine.base.Engine PRAGMA table_info(\"shoppingCarts\")\n",
      "2018-11-01 11:07:01,243 INFO sqlalchemy.engine.base.Engine ()\n",
      "2018-11-01 11:07:01,245 INFO sqlalchemy.engine.base.Engine PRAGMA table_info(\"items\")\n",
      "2018-11-01 11:07:01,245 INFO sqlalchemy.engine.base.Engine ()\n",
      "2018-11-01 11:07:01,248 INFO sqlalchemy.engine.base.Engine \n",
      "CREATE TABLE items (\n",
      "\tid INTEGER NOT NULL, \n",
      "\tdescription VARCHAR, \n",
      "\tprice FLOAT, \n",
      "\tPRIMARY KEY (id)\n",
      ")\n",
      "\n",
      "\n",
      "2018-11-01 11:07:01,248 INFO sqlalchemy.engine.base.Engine ()\n",
      "2018-11-01 11:07:01,251 INFO sqlalchemy.engine.base.Engine COMMIT\n",
      "2018-11-01 11:07:01,252 INFO sqlalchemy.engine.base.Engine \n",
      "CREATE TABLE \"shoppingCarts\" (\n",
      "\tid INTEGER NOT NULL, \n",
      "\titem_id INTEGER, \n",
      "\tPRIMARY KEY (id), \n",
      "\tFOREIGN KEY(item_id) REFERENCES items (id)\n",
      ")\n",
      "\n",
      "\n",
      "2018-11-01 11:07:01,253 INFO sqlalchemy.engine.base.Engine ()\n",
      "2018-11-01 11:07:01,256 INFO sqlalchemy.engine.base.Engine COMMIT\n",
      "2018-11-01 11:07:01,257 INFO sqlalchemy.engine.base.Engine \n",
      "CREATE TABLE customers (\n",
      "\tid INTEGER NOT NULL, \n",
      "\tname VARCHAR, \n",
      "\tcart_id INTEGER, \n",
      "\tPRIMARY KEY (id), \n",
      "\tFOREIGN KEY(cart_id) REFERENCES \"shoppingCarts\" (id)\n",
      ")\n",
      "\n",
      "\n",
      "2018-11-01 11:07:01,258 INFO sqlalchemy.engine.base.Engine ()\n",
      "2018-11-01 11:07:01,262 INFO sqlalchemy.engine.base.Engine COMMIT\n"
     ]
    }
   ],
   "source": [
    "engine = create_engine('sqlite:///shopping_cart.db', echo=True, )\n",
    "Base.metadata.create_all(engine)"
   ]
  },
  {
   "cell_type": "markdown",
   "metadata": {},
   "source": [
    "## CRUD Operations\n",
    "\n",
    "We've now created a database, but our tables don't contain any data yet!\n",
    "\n",
    "We'll need to create some objects, and then populate the database with them.\n",
    "\n",
    "Run the cell below to some sample data for our tables."
   ]
  },
  {
   "cell_type": "code",
   "execution_count": 13,
   "metadata": {},
   "outputs": [],
   "source": [
    "customer1 = Customer(name=\"Jane\")\n",
    "item1 = Item(description=\"widget\", price=9.99)\n",
    "cart1 = ShoppingCart(customers=customer1, items = item1)\n",
    "customer1.shoppingCart = cart1"
   ]
  },
  {
   "cell_type": "markdown",
   "metadata": {},
   "source": [
    "Note that this data has not yet been put into the database.  Before that happens, we need to create a `session` object, then add these objects and commit them. We can double check this by examining the items and seeing that they don't yet have primary keys.  Run the cell below now to demonstrate this. "
   ]
  },
  {
   "cell_type": "code",
   "execution_count": 20,
   "metadata": {},
   "outputs": [
    {
     "data": {
      "text/plain": [
       "(None, None)"
      ]
     },
     "execution_count": 20,
     "metadata": {},
     "output_type": "execute_result"
    }
   ],
   "source": [
    "customer1.id, item1.id\n",
    "\n",
    "# why don't we get an id? \n",
    "# id is there but is a null value yet\n",
    "# haven't saved in database yet so it won't assign a primary key\n",
    "# just in memory"
   ]
  },
  {
   "cell_type": "markdown",
   "metadata": {},
   "source": [
    "You may have noticed that we defined values for certain attributes such as the customer's name, or the item's description and price, but never attributes that act as ids.  There's a reason for this--SQLAlchemy takes care of this for us! Since every primary key has to be unique, this means that defining the integer values for primary keys would be really cumbersome, since we would need to keep track of every primary key that's been created so far--a much better task for a computer than for us!\n",
    "\n",
    "Another thing you might have noticed is that to create relationships between objects, we just assign them to attributes that were defined as `relationship` objects when we created our mappings!\n",
    "\n",
    "## Creating a Session Object\n",
    "\n",
    "In order to add our new data to our database tables, we first need to create a session object. \n",
    "\n",
    "In the cell below:\n",
    "\n",
    "* import `Session` and `sessionmaker` from `sqlalchemy.orm`\n",
    "* create a `sessionmaker` and set the `bind=` parameter to our `engine` object. Store this in `Session`\n",
    "* Instantiate a `Session()` object and store it in the variable `session`"
   ]
  },
  {
   "cell_type": "code",
   "execution_count": 15,
   "metadata": {},
   "outputs": [],
   "source": [
    "Session = sessionmaker(bind=engine)\n",
    "\n",
    "session = Session()"
   ]
  },
  {
   "cell_type": "markdown",
   "metadata": {},
   "source": [
    "Great! Now we have a session object that we can use to interact with our database.\n",
    "\n",
    "We can add items to our database one at a time by passing them in as a parameter to `session.add()`. We can also add multiplem items by passing them as a list into the `add_all()` method. In the cell below, use `add_all()` to add `customer1`, `cart1`, and `item1` into our database."
   ]
  },
  {
   "cell_type": "code",
   "execution_count": 17,
   "metadata": {},
   "outputs": [],
   "source": [
    "session.add_all([customer1, cart1, item1])"
   ]
  },
  {
   "cell_type": "markdown",
   "metadata": {},
   "source": [
    "Adding something multiple times will not throw an error or cause duplicates.  We can see all the items that have been added by checking the session object's `.new` attribute. Do this now in the cell below."
   ]
  },
  {
   "cell_type": "code",
   "execution_count": 18,
   "metadata": {},
   "outputs": [
    {
     "data": {
      "text/plain": [
       "IdentitySet([<__main__.Customer object at 0x105251c50>, <__main__.ShoppingCart object at 0x105251a90>, <__main__.Item object at 0x10523dd30>])"
      ]
     },
     "execution_count": 18,
     "metadata": {},
     "output_type": "execute_result"
    }
   ],
   "source": [
    "session.new"
   ]
  },
  {
   "cell_type": "markdown",
   "metadata": {},
   "source": [
    "Now, commit our objects to push them to the database. \n",
    "\n",
    "In the cell below, call `session.commit()`."
   ]
  },
  {
   "cell_type": "code",
   "execution_count": 21,
   "metadata": {},
   "outputs": [
    {
     "name": "stdout",
     "output_type": "stream",
     "text": [
      "2018-11-01 11:08:46,444 INFO sqlalchemy.engine.base.Engine BEGIN (implicit)\n",
      "2018-11-01 11:08:46,446 INFO sqlalchemy.engine.base.Engine INSERT INTO items (description, price) VALUES (?, ?)\n",
      "2018-11-01 11:08:46,447 INFO sqlalchemy.engine.base.Engine ('widget', 9.99)\n",
      "2018-11-01 11:08:46,450 INFO sqlalchemy.engine.base.Engine INSERT INTO \"shoppingCarts\" (item_id) VALUES (?)\n",
      "2018-11-01 11:08:46,452 INFO sqlalchemy.engine.base.Engine (1,)\n",
      "2018-11-01 11:08:46,454 INFO sqlalchemy.engine.base.Engine INSERT INTO customers (name, cart_id) VALUES (?, ?)\n",
      "2018-11-01 11:08:46,456 INFO sqlalchemy.engine.base.Engine ('Jane', 1)\n",
      "2018-11-01 11:08:46,458 INFO sqlalchemy.engine.base.Engine COMMIT\n"
     ]
    }
   ],
   "source": [
    "session.commit() # this adds them to db"
   ]
  },
  {
   "cell_type": "markdown",
   "metadata": {},
   "source": [
    "If we check the object ids again, we'll see that they now have values for their primary keys.\n",
    "\n",
    "In the cell below, check the `.id` attribute of `customer1`."
   ]
  },
  {
   "cell_type": "code",
   "execution_count": 22,
   "metadata": {},
   "outputs": [
    {
     "name": "stdout",
     "output_type": "stream",
     "text": [
      "2018-11-01 11:08:53,682 INFO sqlalchemy.engine.base.Engine BEGIN (implicit)\n",
      "2018-11-01 11:08:53,684 INFO sqlalchemy.engine.base.Engine SELECT items.id AS items_id, items.description AS items_description, items.price AS items_price \n",
      "FROM items \n",
      "WHERE items.id = ?\n",
      "2018-11-01 11:08:53,685 INFO sqlalchemy.engine.base.Engine (1,)\n"
     ]
    },
    {
     "data": {
      "text/plain": [
       "1"
      ]
     },
     "execution_count": 22,
     "metadata": {},
     "output_type": "execute_result"
    }
   ],
   "source": [
    "item1.id"
   ]
  },
  {
   "cell_type": "code",
   "execution_count": 23,
   "metadata": {},
   "outputs": [
    {
     "name": "stdout",
     "output_type": "stream",
     "text": [
      "2018-11-01 11:09:09,452 INFO sqlalchemy.engine.base.Engine ROLLBACK\n"
     ]
    }
   ],
   "source": [
    "session.close()"
   ]
  },
  {
   "cell_type": "markdown",
   "metadata": {},
   "source": [
    "## Summary\n",
    "\n",
    "In this lab, we created a database with SQLAlchemy, defined our mappings to structure the tables, and even added some data to the database. Great job! "
   ]
  }
 ],
 "metadata": {
  "kernelspec": {
   "display_name": "Python 3",
   "language": "python",
   "name": "python3"
  },
  "language_info": {
   "codemirror_mode": {
    "name": "ipython",
    "version": 3
   },
   "file_extension": ".py",
   "mimetype": "text/x-python",
   "name": "python",
   "nbconvert_exporter": "python",
   "pygments_lexer": "ipython3",
   "version": "3.6.5"
  }
 },
 "nbformat": 4,
 "nbformat_minor": 2
}
