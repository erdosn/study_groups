{
 "cells": [
  {
   "cell_type": "markdown",
   "metadata": {},
   "source": [
    "# K-Nearest Neighbors - Lab\n",
    "\n",
    "## Introduction\n",
    "\n",
    "In this lesson, we'll build a simple version of a **_K-Nearest Neigbors Classifier_** from scratch, and train it to make predictions on a dataset!\n",
    "\n",
    "## Objectives\n",
    "\n",
    "You will be able to:\n",
    "\n",
    "* Implement a basic KNN algorithm from scratch\n",
    "\n",
    "## What we learned\n",
    "\n",
    "* I didn't use enumerate....?\n",
    "* Learned that this is possible without enumerate\n",
    "* The ins and outs of instantiating a machine learning model, Chris\n",
    "* What KNN is and how it calcualtes NN by distance, Chris\n",
    "* Taking the hood off of KNN, Danyal\n",
    "* Euc distance and that mathematicians murder their students...yikes..., Emily\n",
    "\n",
    "## Getting Started\n",
    "\n",
    "We'll begin this lab by creating our classifier.  To keep things simple, we'll be using a helper function from the scipy library to calcluate euclidean distance for us--specifically, the `euclidean()` function from the `scipy.spatial.distance` module. Import this function in the cell below."
   ]
  },
  {
   "cell_type": "code",
   "execution_count": 2,
   "metadata": {},
   "outputs": [],
   "source": [
    "from scipy.spatial.distance import euclidean as euc # pythagathorean theorem\n",
    "import numpy as np\n",
    "np.random.seed(0)"
   ]
  },
  {
   "cell_type": "markdown",
   "metadata": {},
   "source": [
    "Great! Now, we'll need to define our `KNN` class. Since we don't need to do anything at initialization, we don't need to modify the `__init__` method at all.\n",
    "\n",
    "In the cell below:\n",
    "\n",
    "* Create an class called `KNN`.\n",
    "* This class should contain two empty methods--`fit`, and `predict`. (Set the body of both of these methods to `pass`)"
   ]
  },
  {
   "cell_type": "code",
   "execution_count": 10,
   "metadata": {},
   "outputs": [],
   "source": [
    "class KNN(object):\n",
    "    \n",
    "    def __init__(self):\n",
    "        self.X_train=None\n",
    "        self.y_train=None\n",
    "        self.distance=distance\n",
    "        pass\n",
    "    \n",
    "    \n",
    "    def fit(self):\n",
    "        pass\n",
    "    \n",
    "    def predict(self):\n",
    "        pass"
   ]
  },
  {
   "cell_type": "markdown",
   "metadata": {},
   "source": [
    "## Completing the `fit` Method\n",
    "\n",
    "Recall from our previous lesson on KNN that when \"fitting\" a KNN classifier, all we're really doing is storing the points and their corresponding labels. There's no actual \"fitting\" involved here, since all we can do is store the data so that we can use it to calculate the nearest nighbors when the `predict` method is called.\n",
    "\n",
    "Our inputs for this function should be:\n",
    "\n",
    "* `self`, since this will be an instance method inside the `KNN` class.\n",
    "* `X_train`--A 2-dimensional array. Each of the internal arrays represents a _vector_ for a given point in space. \n",
    "* `y_train`--the corresponding labels for each vector in `X_train`. The label at `y_train[0]` is the label that corresponds to the vector at `X_train[0]`, and so on. \n",
    "\n",
    "In the cell below, complete the `fit` method."
   ]
  },
  {
   "cell_type": "code",
   "execution_count": 26,
   "metadata": {},
   "outputs": [],
   "source": [
    "def fit(self, X_train, y_train):\n",
    "    self.X_train = X_train\n",
    "    self.y_train = y_train\n",
    "    data = np.column_stack([X_train, y_train])\n",
    "    return data\n",
    "    \n",
    "# This line updates the knn.fit method to point to the function we've just written\n",
    "KNN.fit = fit"
   ]
  },
  {
   "cell_type": "markdown",
   "metadata": {},
   "source": [
    "### Helper Functions\n",
    "\n",
    "Next, we'll write two helper functions to make things easier for us when completing the `predict` function. The first helper function we'll write return an array containing the distance between a point we pass in and every point inside of `X_train`. \n",
    "\n",
    "In the cell below, complete the `_get_distances()` function. This function should:\n",
    "\n",
    "* Take in two arguments: `self` and `x`\n",
    "* Create an empty array to hold all the distances we're going to calculate\n",
    "* Enumerate through every item in `self.X_train`. For each item: \n",
    "    * Use the `euc()` function we imported to get the distance between x and the current point from `X_train`.\n",
    "    * Create a tuple containing the index and the distance (in that order!) and append it to our `distances` array.\n",
    "* Return the `distances` array when a distance has been generated for each item in `self.X_train`."
   ]
  },
  {
   "cell_type": "code",
   "execution_count": 32,
   "metadata": {},
   "outputs": [],
   "source": [
    "def _get_distances(self, x):\n",
    "    # x is a point\n",
    "    distances = []\n",
    "    index = 0\n",
    "    for point in self.X_train:\n",
    "        distance = euc(x, point)\n",
    "        distance_store = (index, distance)\n",
    "        index += 1\n",
    "        distances.append(distance_store)\n",
    "    distances = np.array(distances)\n",
    "    return distances\n",
    "\n",
    "# This line attaches the function we just created as a method to our KNN class.\n",
    "KNN._get_distances = _get_distances\n",
    "\n",
    "# (0, distance0)\n",
    "# (1, distance1)\n",
    "# (2, distance2)\n",
    "# (3, distance3) ..."
   ]
  },
  {
   "cell_type": "markdown",
   "metadata": {},
   "source": [
    "Great! The second big challenge in a `predict` method is getting the indices of the k-nearest points. To keep our coming `predict` method nice and clean, we'll abstract this functionality into a helper method called `_get_k_nearest`.  \n",
    "\n",
    "In the cell below, complete the `_get_k_nearest` function.  This function should:\n",
    "\n",
    "* Take in 3 arguments:\n",
    "    * `self`\n",
    "    * `dists`, an array of tuples containing (index, distance), which will be output from the `_get_distances` method. \n",
    "    * `k`, the number of nearest neighbors we want to return.\n",
    "* Sort our `dists` array by distances values, which are the second element in each tuple\n",
    "* Return the first `k` tuples from then (now sorted) `dists` array.\n",
    "\n",
    "**_Hint:_** To easily sort on the second item in the tuples contained within the `dists` array, use the `sorted` function and pass in lambda for the `key=` parameter. To sort on the second element of each tuple, we can just use `key=lambda x: x[1]`!"
   ]
  },
  {
   "cell_type": "code",
   "execution_count": 14,
   "metadata": {},
   "outputs": [],
   "source": [
    "# sort by distance\n",
    "# (i0, distanceclosest0)\n",
    "# (i1, distanceclosest1)\n",
    "# (i2, distanceclosest2)\n",
    "\n",
    "def _get_k_nearest(self, dists, k):\n",
    "    k_nearest = sorted(dists, key=lambda x:x[1], reverse=False)[:k]\n",
    "    return k_nearest\n",
    "    pass\n",
    "\n",
    "# This line attaches the function we just created as a method to our KNN class.\n",
    "KNN._get_k_nearest = _get_k_nearest"
   ]
  },
  {
   "cell_type": "markdown",
   "metadata": {},
   "source": [
    "Now, we have helper functions to help us get the distances, and then get the k-nearest neighbors based on those distances. The final helper function we'll create will help us get the labels that correspond to each of the k-nearest point, and return the class that occurs the most. \n",
    "\n",
    "Complete the `_get_label_prediction()` function in the cell below. This function should:\n",
    "\n",
    "* Create a list containing the labels from `self.y_train` for each index in `k_nearest` (remember, each item in `k_nearest` is a tuple, and the index is stored as the first item in each tuple)\n",
    "* Get the total counts for each label (use `np.bincount()` and pass in the label array created in the previous step)\n",
    "* Get the index of the label with the highest overall count in counts (use `np.argmax()` for this, and pass in the counts created in the previous step)."
   ]
  },
  {
   "cell_type": "code",
   "execution_count": 51,
   "metadata": {},
   "outputs": [],
   "source": [
    "def _get_label_prediction(self, k_nearest):\n",
    "    indices = [int(i[0]) for i in k_nearest]\n",
    "    labels = np.bincount(self.y_train[indices]) # counting different labels \n",
    "    return np.argmax(labels)\n",
    "\n",
    "# This line attaches the function we just created as a method to our KNN class.\n",
    "KNN._get_label_prediction = _get_label_prediction"
   ]
  },
  {
   "cell_type": "code",
   "execution_count": 39,
   "metadata": {},
   "outputs": [],
   "source": [
    "label_sample = np.array([0, 1, 1, 1, 0, 2, 2, 0, 1])"
   ]
  },
  {
   "cell_type": "code",
   "execution_count": 40,
   "metadata": {},
   "outputs": [
    {
     "data": {
      "text/plain": [
       "array([3, 4, 2])"
      ]
     },
     "execution_count": 40,
     "metadata": {},
     "output_type": "execute_result"
    }
   ],
   "source": [
    "np.bincount(label_sample)"
   ]
  },
  {
   "cell_type": "code",
   "execution_count": 41,
   "metadata": {},
   "outputs": [
    {
     "data": {
      "text/plain": [
       "1"
      ]
     },
     "execution_count": 41,
     "metadata": {},
     "output_type": "execute_result"
    }
   ],
   "source": [
    "np.argmax(np.bincount(label_sample))"
   ]
  },
  {
   "cell_type": "markdown",
   "metadata": {},
   "source": [
    "Great! Now, we need to complete the `predict` method. This will be much simpler, now that we have some \n",
    "\n",
    "## Completing the `predict` Method\n",
    "\n",
    "This method does all the heavy lifting for KNN, so this will be a bit more complex than our `fit` method. Let's examine how this method should work, so that we'll have a better idea of how to write it.\n",
    "\n",
    "1. The function takes in an array of vectors that we want predictions for.\n",
    "1. For each vector that we want to make a prediction for: \n",
    "    1a. The classifier calculates the distance between that vector and every other vector in our training set. \n",
    "    1b. The classifier identifies the K nearest vectors to the vector we want a prediction for.\n",
    "    1c. The classifier determines which label the majority of the K nearest neighbors share, and appends this prediction to an array we will output. The index of the prediction in this array should be the same as the index of the point that it corresponds to (e.g. `pred[0]` is the prediction for `X_test[0]`).\n",
    "2. Once predictions have been generated for every vector in question, return the array of predictions. \n",
    "\n",
    "This tells us a few things about what our `predict` function will need to be able to do:\n",
    "\n",
    "* In addition to `self`, our `predict` function should take in two arguments: \n",
    "    * `X_test`, the points we want to classify\n",
    "    * `k`, which specifies the number of neighbors we should use to make the classification.  We'll set `k=3` as a default, but allow the user to update it if they choose.\n",
    "* Our method will need to iterate through every item in `X_test`. For each item:\n",
    "    * Calculate the distance to all points in `X_train` by using our `_get_distances()` helper method we created.\n",
    "    * Find the k-nearest points in `X_train` by using the `_get_k_nearest()` helper method we created\n",
    "    * Use the index values contained within the tuples returned by `_get_k_nearest()` to get the corresponding labels for each of the nearest points. \n",
    "    * Determine which class is most represented in these labels and treat that as the prediction for this point. Append the prediction to `preds`.\n",
    "* Once a prediction has been generated for every item in `X_test`, return `preds`\n",
    "\n",
    "Follow these instructions to complete the `predict()` method in the cell below!"
   ]
  },
  {
   "cell_type": "code",
   "execution_count": 20,
   "metadata": {},
   "outputs": [],
   "source": [
    "def predict(self, X_test, k=3):\n",
    "    # calculate the distance between X_test[0] and all of our train vectors\n",
    "    predictions = np.zeros(shape=(X_test.shape[0], 1))\n",
    "    index = 0\n",
    "    for point in X_test:\n",
    "        distances = self._get_distances(point)\n",
    "        k_nearest = self._get_k_nearest(distances, k)\n",
    "        prediction = self._get_label_prediction(k_nearest)\n",
    "        predictions[index] = prediction\n",
    "        index += 1\n",
    "    return predictions\n",
    "        \n",
    "KNN.predict = predict"
   ]
  },
  {
   "cell_type": "markdown",
   "metadata": {},
   "source": [
    "Great! Now, let's try out our new KNN classifier on a sample dataset to see how well it works!\n",
    "\n",
    "## Testing Our KNN Classifier\n",
    "\n",
    "In order to test the performance of our model, we're going to import the **_Iris Dataset_**. Specifically, we'll use the `load_iris` function, which can be found inside of the `sklearn.datasets` module. We'll then call this function, and use the object it returns. We'll also import `train_test_split` from `sklearn.model_selection`, as well as `accuracy_score` from `sklearn.metrics`.  Note that there are **_3 classes_** in the Iris Dataset, making this a multicategorical classification problem. This means that we can't use evaluation metrics that are meant for binary classification problems. For this, we'll just stick to accuracy. \n",
    "\n",
    "Run the cell below to import everything we'll need from sklearn to test our model. "
   ]
  },
  {
   "cell_type": "code",
   "execution_count": 21,
   "metadata": {},
   "outputs": [],
   "source": [
    "from sklearn.datasets import load_iris\n",
    "from sklearn.model_selection import train_test_split\n",
    "from sklearn.metrics import accuracy_score\n",
    "\n",
    "iris = load_iris()\n",
    "data = iris.data\n",
    "target = iris.target"
   ]
  },
  {
   "cell_type": "markdown",
   "metadata": {},
   "source": [
    "Now, you'll need to use `train_test_split` to split our training data into training and testing sets. Pass in the `data`, the `target`, and set a `test_size` of `0.25`."
   ]
  },
  {
   "cell_type": "code",
   "execution_count": 23,
   "metadata": {},
   "outputs": [],
   "source": [
    "X_train, X_test, y_train, y_test = train_test_split(data, target, test_size = 0.20)"
   ]
  },
  {
   "cell_type": "markdown",
   "metadata": {},
   "source": [
    "Now, instantiate a knn object, and `fit` it to the data in `X_train` and the labels in `y_train`."
   ]
  },
  {
   "cell_type": "code",
   "execution_count": 24,
   "metadata": {},
   "outputs": [],
   "source": [
    "knn = KNN(distance='manhattan')"
   ]
  },
  {
   "cell_type": "code",
   "execution_count": 27,
   "metadata": {},
   "outputs": [],
   "source": [
    "data = knn.fit(X_train, y_train)"
   ]
  },
  {
   "cell_type": "code",
   "execution_count": 28,
   "metadata": {},
   "outputs": [
    {
     "data": {
      "text/plain": [
       "array([[6.9, 3.1, 4.9, 1.5, 1. ],\n",
       "       [7.9, 3.8, 6.4, 2. , 2. ],\n",
       "       [5.7, 2.5, 5. , 2. , 2. ],\n",
       "       [5.1, 2.5, 3. , 1.1, 1. ],\n",
       "       [4.8, 3.1, 1.6, 0.2, 0. ],\n",
       "       [6.3, 3.4, 5.6, 2.4, 2. ],\n",
       "       [5.6, 3. , 4.5, 1.5, 1. ],\n",
       "       [6.3, 2.8, 5.1, 1.5, 2. ],\n",
       "       [5. , 3.3, 1.4, 0.2, 0. ],\n",
       "       [6. , 2.2, 4. , 1. , 1. ],\n",
       "       [6.4, 2.9, 4.3, 1.3, 1. ],\n",
       "       [5.1, 3.5, 1.4, 0.3, 0. ],\n",
       "       [4.9, 2.5, 4.5, 1.7, 2. ],\n",
       "       [4.4, 2.9, 1.4, 0.2, 0. ],\n",
       "       [7.7, 3. , 6.1, 2.3, 2. ],\n",
       "       [5.5, 2.4, 3.8, 1.1, 1. ],\n",
       "       [7.3, 2.9, 6.3, 1.8, 2. ],\n",
       "       [5.5, 2.6, 4.4, 1.2, 1. ],\n",
       "       [5.1, 3.5, 1.4, 0.2, 0. ],\n",
       "       [5.5, 3.5, 1.3, 0.2, 0. ],\n",
       "       [6.8, 3. , 5.5, 2.1, 2. ],\n",
       "       [5.4, 3.9, 1.7, 0.4, 0. ],\n",
       "       [4.9, 2.4, 3.3, 1. , 1. ],\n",
       "       [7.1, 3. , 5.9, 2.1, 2. ],\n",
       "       [5.7, 2.8, 4.5, 1.3, 1. ],\n",
       "       [4.9, 3.1, 1.5, 0.1, 0. ],\n",
       "       [6.4, 2.8, 5.6, 2.1, 2. ],\n",
       "       [5.5, 4.2, 1.4, 0.2, 0. ],\n",
       "       [5.1, 3.7, 1.5, 0.4, 0. ],\n",
       "       [6.1, 2.8, 4.7, 1.2, 1. ],\n",
       "       [5. , 3.4, 1.5, 0.2, 0. ],\n",
       "       [4.8, 3. , 1.4, 0.3, 0. ],\n",
       "       [7.2, 3. , 5.8, 1.6, 2. ],\n",
       "       [6.3, 2.9, 5.6, 1.8, 2. ],\n",
       "       [6.3, 2.5, 5. , 1.9, 2. ],\n",
       "       [6.9, 3.2, 5.7, 2.3, 2. ],\n",
       "       [5.6, 2.7, 4.2, 1.3, 1. ],\n",
       "       [7. , 3.2, 4.7, 1.4, 1. ],\n",
       "       [6.1, 2.6, 5.6, 1.4, 2. ],\n",
       "       [5.7, 2.8, 4.1, 1.3, 1. ],\n",
       "       [6.2, 2.8, 4.8, 1.8, 2. ],\n",
       "       [5.8, 2.8, 5.1, 2.4, 2. ],\n",
       "       [4.9, 3.1, 1.5, 0.1, 0. ],\n",
       "       [5.1, 3.4, 1.5, 0.2, 0. ],\n",
       "       [6.2, 2.9, 4.3, 1.3, 1. ],\n",
       "       [5.8, 2.7, 5.1, 1.9, 2. ],\n",
       "       [4.7, 3.2, 1.6, 0.2, 0. ],\n",
       "       [5.5, 2.4, 3.7, 1. , 1. ],\n",
       "       [5.4, 3.4, 1.7, 0.2, 0. ],\n",
       "       [5.1, 3.8, 1.6, 0.2, 0. ],\n",
       "       [6.4, 3.2, 4.5, 1.5, 1. ],\n",
       "       [5.5, 2.3, 4. , 1.3, 1. ],\n",
       "       [5.1, 3.3, 1.7, 0.5, 0. ],\n",
       "       [5.2, 3.5, 1.5, 0.2, 0. ],\n",
       "       [4.7, 3.2, 1.3, 0.2, 0. ],\n",
       "       [5.2, 3.4, 1.4, 0.2, 0. ],\n",
       "       [4.9, 3.1, 1.5, 0.1, 0. ],\n",
       "       [6.4, 2.7, 5.3, 1.9, 2. ],\n",
       "       [5.4, 3.7, 1.5, 0.2, 0. ],\n",
       "       [5.4, 3. , 4.5, 1.5, 1. ],\n",
       "       [6.4, 3.1, 5.5, 1.8, 2. ],\n",
       "       [6.1, 3. , 4.9, 1.8, 2. ],\n",
       "       [5. , 3.5, 1.6, 0.6, 0. ],\n",
       "       [6.3, 2.3, 4.4, 1.3, 1. ],\n",
       "       [5.6, 2.5, 3.9, 1.1, 1. ],\n",
       "       [6.7, 3.3, 5.7, 2.5, 2. ],\n",
       "       [6.7, 3.1, 5.6, 2.4, 2. ],\n",
       "       [5. , 3.2, 1.2, 0.2, 0. ],\n",
       "       [6.8, 2.8, 4.8, 1.4, 1. ],\n",
       "       [4.6, 3.1, 1.5, 0.2, 0. ],\n",
       "       [5.8, 2.7, 3.9, 1.2, 1. ],\n",
       "       [6.7, 3. , 5.2, 2.3, 2. ],\n",
       "       [6.5, 3. , 5.5, 1.8, 2. ],\n",
       "       [5.6, 3. , 4.1, 1.3, 1. ],\n",
       "       [5.1, 3.8, 1.9, 0.4, 0. ],\n",
       "       [6.5, 3. , 5.2, 2. , 2. ],\n",
       "       [4.9, 3. , 1.4, 0.2, 0. ],\n",
       "       [5. , 2.3, 3.3, 1. , 1. ],\n",
       "       [4.4, 3. , 1.3, 0.2, 0. ],\n",
       "       [4.8, 3.4, 1.6, 0.2, 0. ],\n",
       "       [6.4, 3.2, 5.3, 2.3, 2. ],\n",
       "       [6.5, 2.8, 4.6, 1.5, 1. ],\n",
       "       [5. , 3.5, 1.3, 0.3, 0. ],\n",
       "       [5.7, 3.8, 1.7, 0.3, 0. ],\n",
       "       [4.5, 2.3, 1.3, 0.3, 0. ],\n",
       "       [5.7, 2.6, 3.5, 1. , 1. ],\n",
       "       [4.8, 3.4, 1.9, 0.2, 0. ],\n",
       "       [6.3, 3.3, 4.7, 1.6, 1. ],\n",
       "       [6.1, 2.8, 4. , 1.3, 1. ],\n",
       "       [4.3, 3. , 1.1, 0.1, 0. ],\n",
       "       [5.4, 3.4, 1.5, 0.4, 0. ],\n",
       "       [6. , 3.4, 4.5, 1.6, 1. ],\n",
       "       [5.9, 3.2, 4.8, 1.8, 1. ],\n",
       "       [6.4, 2.8, 5.6, 2.2, 2. ],\n",
       "       [7.2, 3.2, 6. , 1.8, 2. ],\n",
       "       [6.3, 2.7, 4.9, 1.8, 2. ],\n",
       "       [6.3, 3.3, 6. , 2.5, 2. ],\n",
       "       [5.2, 4.1, 1.5, 0.1, 0. ],\n",
       "       [6.5, 3. , 5.8, 2.2, 2. ],\n",
       "       [6. , 2.7, 5.1, 1.6, 1. ],\n",
       "       [7.7, 3.8, 6.7, 2.2, 2. ],\n",
       "       [7.7, 2.6, 6.9, 2.3, 2. ],\n",
       "       [6. , 3. , 4.8, 1.8, 2. ],\n",
       "       [5. , 3. , 1.6, 0.2, 0. ],\n",
       "       [6.5, 3.2, 5.1, 2. , 2. ],\n",
       "       [5.4, 3.9, 1.3, 0.4, 0. ],\n",
       "       [6.6, 3. , 4.4, 1.4, 1. ],\n",
       "       [7.2, 3.6, 6.1, 2.5, 2. ],\n",
       "       [5.6, 2.8, 4.9, 2. , 2. ],\n",
       "       [6.7, 3.1, 4.7, 1.5, 1. ],\n",
       "       [6.9, 3.1, 5.4, 2.1, 2. ],\n",
       "       [5. , 3.6, 1.4, 0.2, 0. ],\n",
       "       [5.7, 2.9, 4.2, 1.3, 1. ],\n",
       "       [5.8, 4. , 1.2, 0.2, 0. ],\n",
       "       [5.9, 3. , 4.2, 1.5, 1. ],\n",
       "       [5.8, 2.7, 4.1, 1. , 1. ],\n",
       "       [5.9, 3. , 5.1, 1.8, 2. ],\n",
       "       [5.7, 3. , 4.2, 1.2, 1. ],\n",
       "       [5.1, 3.8, 1.5, 0.3, 0. ],\n",
       "       [6.3, 2.5, 4.9, 1.5, 1. ]])"
      ]
     },
     "execution_count": 28,
     "metadata": {},
     "output_type": "execute_result"
    }
   ],
   "source": [
    "data"
   ]
  },
  {
   "cell_type": "code",
   "execution_count": 29,
   "metadata": {},
   "outputs": [
    {
     "data": {
      "text/plain": [
       "array([5.8, 2.6, 4. , 1.2])"
      ]
     },
     "execution_count": 29,
     "metadata": {},
     "output_type": "execute_result"
    }
   ],
   "source": [
    "x = X_test[0]\n",
    "x"
   ]
  },
  {
   "cell_type": "code",
   "execution_count": 34,
   "metadata": {},
   "outputs": [
    {
     "data": {
      "text/plain": [
       "array([[  0.        ,   1.53622915],\n",
       "       [  1.        ,   3.5       ],\n",
       "       [  2.        ,   1.28840987],\n",
       "       [  3.        ,   1.22882057],\n",
       "       [  4.        ,   2.83019434],\n",
       "       [  5.        ,   2.21133444],\n",
       "       [  6.        ,   0.73484692],\n",
       "       [  7.        ,   1.26095202],\n",
       "       [  8.        ,   2.9816103 ],\n",
       "       [  9.        ,   0.48989795],\n",
       "       [ 10.        ,   0.74161985],\n",
       "       [ 11.        ,   2.97825452],\n",
       "       [ 12.        ,   1.14891253],\n",
       "       [ 13.        ,   3.13209195],\n",
       "       [ 14.        ,   3.06431069],\n",
       "       [ 15.        ,   0.42426407],\n",
       "       [ 16.        ,   2.82665881],\n",
       "       [ 17.        ,   0.5       ],\n",
       "       [ 18.        ,   3.00998339],\n",
       "       [ 19.        ,   3.03150128],\n",
       "       [ 20.        ,   2.05426386],\n",
       "       [ 21.        ,   2.78926514],\n",
       "       [ 22.        ,   1.17473401],\n",
       "       [ 23.        ,   2.50399681],\n",
       "       [ 24.        ,   0.55677644],\n",
       "       [ 25.        ,   2.9189039 ],\n",
       "       [ 26.        ,   1.94164878],\n",
       "       [ 27.        ,   3.22645316],\n",
       "       [ 28.        ,   2.93087018],\n",
       "       [ 29.        ,   0.78740079],\n",
       "       [ 30.        ,   2.92061637],\n",
       "       [ 31.        ,   2.95465734],\n",
       "       [ 32.        ,   2.34946802],\n",
       "       [ 33.        ,   1.80554701],\n",
       "       [ 34.        ,   1.32287566],\n",
       "       [ 35.        ,   2.38117618],\n",
       "       [ 36.        ,   0.31622777],\n",
       "       [ 37.        ,   1.52643375],\n",
       "       [ 38.        ,   1.64012195],\n",
       "       [ 39.        ,   0.26457513],\n",
       "       [ 40.        ,   1.09544512],\n",
       "       [ 41.        ,   1.64012195],\n",
       "       [ 42.        ,   2.9189039 ],\n",
       "       [ 43.        ,   2.89482297],\n",
       "       [ 44.        ,   0.59160798],\n",
       "       [ 45.        ,   1.30766968],\n",
       "       [ 46.        ,   2.88617394],\n",
       "       [ 47.        ,   0.50990195],\n",
       "       [ 48.        ,   2.66270539],\n",
       "       [ 49.        ,   2.94788059],\n",
       "       [ 50.        ,   1.02956301],\n",
       "       [ 51.        ,   0.43588989],\n",
       "       [ 52.        ,   2.6       ],\n",
       "       [ 53.        ,   2.90172363],\n",
       "       [ 54.        ,   3.14006369],\n",
       "       [ 55.        ,   2.95972972],\n",
       "       [ 56.        ,   2.9189039 ],\n",
       "       [ 57.        ,   1.59687194],\n",
       "       [ 58.        ,   2.93598365],\n",
       "       [ 59.        ,   0.81240384],\n",
       "       [ 60.        ,   1.79443584],\n",
       "       [ 61.        ,   1.19163753],\n",
       "       [ 62.        ,   2.7513633 ],\n",
       "       [ 63.        ,   0.71414284],\n",
       "       [ 64.        ,   0.26457513],\n",
       "       [ 65.        ,   2.42487113],\n",
       "       [ 66.        ,   2.24944438],\n",
       "       [ 67.        ,   3.13687743],\n",
       "       [ 68.        ,   1.3114877 ],\n",
       "       [ 69.        ,   2.98998328],\n",
       "       [ 70.        ,   0.14142136],\n",
       "       [ 71.        ,   1.90262976],\n",
       "       [ 72.        ,   1.80554701],\n",
       "       [ 73.        ,   0.46904158],\n",
       "       [ 74.        ,   2.64196896],\n",
       "       [ 75.        ,   1.65227116],\n",
       "       [ 76.        ,   2.95465734],\n",
       "       [ 77.        ,   1.12249722],\n",
       "       [ 78.        ,   3.22645316],\n",
       "       [ 79.        ,   2.89827535],\n",
       "       [ 80.        ,   1.90262976],\n",
       "       [ 81.        ,   0.98994949],\n",
       "       [ 82.        ,   3.09030743],\n",
       "       [ 83.        ,   2.74772633],\n",
       "       [ 84.        ,   3.14324673],\n",
       "       [ 85.        ,   0.54772256],\n",
       "       [ 86.        ,   2.65518361],\n",
       "       [ 87.        ,   1.17898261],\n",
       "       [ 88.        ,   0.37416574],\n",
       "       [ 89.        ,   3.46842904],\n",
       "       [ 90.        ,   2.77308492],\n",
       "       [ 91.        ,   1.04403065],\n",
       "       [ 92.        ,   1.17046999],\n",
       "       [ 93.        ,   1.98997487],\n",
       "       [ 94.        ,   2.5845696 ],\n",
       "       [ 95.        ,   1.19582607],\n",
       "       [ 96.        ,   2.53574447],\n",
       "       [ 97.        ,   3.17332633],\n",
       "       [ 98.        ,   2.21133444],\n",
       "       [ 99.        ,   1.19163753],\n",
       "       [100.        ,   3.65239647],\n",
       "       [101.        ,   3.6373067 ],\n",
       "       [102.        ,   1.09544512],\n",
       "       [103.        ,   2.74954542],\n",
       "       [104.        ,   1.64316767],\n",
       "       [105.        ,   3.12729915],\n",
       "       [106.        ,   1.        ],\n",
       "       [107.        ,   3.00998339],\n",
       "       [108.        ,   1.23693169],\n",
       "       [109.        ,   1.28062485],\n",
       "       [110.        ,   2.05669638],\n",
       "       [111.        ,   3.06594194],\n",
       "       [112.        ,   0.38729833],\n",
       "       [113.        ,   3.28633535],\n",
       "       [114.        ,   0.54772256],\n",
       "       [115.        ,   0.24494897],\n",
       "       [116.        ,   1.3190906 ],\n",
       "       [117.        ,   0.45825757],\n",
       "       [118.        ,   2.99833287],\n",
       "       [119.        ,   1.07703296]])"
      ]
     },
     "execution_count": 34,
     "metadata": {},
     "output_type": "execute_result"
    }
   ],
   "source": [
    "dist = knn._get_distances(x)\n",
    "dist"
   ]
  },
  {
   "cell_type": "code",
   "execution_count": 36,
   "metadata": {},
   "outputs": [
    {
     "data": {
      "text/plain": [
       "3.5000000000000004"
      ]
     },
     "execution_count": 36,
     "metadata": {},
     "output_type": "execute_result"
    }
   ],
   "source": [
    "euc(x, X_train[1])"
   ]
  },
  {
   "cell_type": "code",
   "execution_count": 46,
   "metadata": {},
   "outputs": [
    {
     "data": {
      "text/plain": [
       "[array([70.        ,  0.14142136]),\n",
       " array([115.        ,   0.24494897]),\n",
       " array([39.        ,  0.26457513]),\n",
       " array([64.        ,  0.26457513]),\n",
       " array([36.        ,  0.31622777])]"
      ]
     },
     "execution_count": 46,
     "metadata": {},
     "output_type": "execute_result"
    }
   ],
   "source": [
    "nn = knn._get_k_nearest(dist, 5)\n",
    "nn"
   ]
  },
  {
   "cell_type": "code",
   "execution_count": 49,
   "metadata": {},
   "outputs": [
    {
     "name": "stdout",
     "output_type": "stream",
     "text": [
      "[70, 115, 39, 64, 36]\n",
      "[0 5]\n"
     ]
    },
    {
     "data": {
      "text/plain": [
       "1"
      ]
     },
     "execution_count": 49,
     "metadata": {},
     "output_type": "execute_result"
    }
   ],
   "source": [
    "nnp = knn._get_label_prediction(nn)\n",
    "nnp"
   ]
  },
  {
   "cell_type": "markdown",
   "metadata": {},
   "source": [
    "Now, we'll create some predictions on our testing data.  In the cell below, use the `.predict()` method to generate predictions for the data stored in `X_test`."
   ]
  },
  {
   "cell_type": "code",
   "execution_count": 52,
   "metadata": {},
   "outputs": [
    {
     "data": {
      "text/plain": [
       "array([[1.],\n",
       "       [2.],\n",
       "       [2.],\n",
       "       [1.],\n",
       "       [0.],\n",
       "       [2.],\n",
       "       [2.],\n",
       "       [1.],\n",
       "       [0.],\n",
       "       [1.],\n",
       "       [0.],\n",
       "       [2.],\n",
       "       [1.],\n",
       "       [1.],\n",
       "       [0.],\n",
       "       [2.],\n",
       "       [0.],\n",
       "       [1.],\n",
       "       [0.],\n",
       "       [1.],\n",
       "       [1.],\n",
       "       [0.],\n",
       "       [2.],\n",
       "       [1.],\n",
       "       [2.],\n",
       "       [0.],\n",
       "       [1.],\n",
       "       [2.],\n",
       "       [1.],\n",
       "       [1.]])"
      ]
     },
     "execution_count": 52,
     "metadata": {},
     "output_type": "execute_result"
    }
   ],
   "source": [
    "preds = knn.predict(X_test, k=3)\n",
    "preds"
   ]
  },
  {
   "cell_type": "markdown",
   "metadata": {},
   "source": [
    "And now, for the moment of truth! Let's test the accuracy of our predictions. In the cell below, complete the call to `accuracy_score` by passing in `y_test` and our `preds`!"
   ]
  },
  {
   "cell_type": "code",
   "execution_count": 53,
   "metadata": {},
   "outputs": [
    {
     "name": "stdout",
     "output_type": "stream",
     "text": [
      "Testing Accuracy: 0.9666666666666667\n"
     ]
    }
   ],
   "source": [
    "print(\"Testing Accuracy: {}\".format(accuracy_score(y_test, preds)))\n",
    "# Expected Output: Testing Accuracy: 0.9736842105263158"
   ]
  },
  {
   "cell_type": "markdown",
   "metadata": {},
   "source": [
    "Over 97% accuracy! Not bad for a handwritten machine learning classifier!"
   ]
  },
  {
   "cell_type": "markdown",
   "metadata": {},
   "source": [
    "## Summary\n",
    "\n",
    "That was great! In what's next, you'll dive a little deeper into evaluating performance of a KNN algorithm!"
   ]
  }
 ],
 "metadata": {
  "kernelspec": {
   "display_name": "Python 3",
   "language": "python",
   "name": "python3"
  },
  "language_info": {
   "codemirror_mode": {
    "name": "ipython",
    "version": 3
   },
   "file_extension": ".py",
   "mimetype": "text/x-python",
   "name": "python",
   "nbconvert_exporter": "python",
   "pygments_lexer": "ipython3",
   "version": "3.6.5"
  }
 },
 "nbformat": 4,
 "nbformat_minor": 2
}
