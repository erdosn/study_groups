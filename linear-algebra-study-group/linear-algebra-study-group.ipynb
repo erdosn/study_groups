{
 "cells": [
  {
   "cell_type": "markdown",
   "metadata": {},
   "source": [
    "# Linear algebra!!!!"
   ]
  },
  {
   "cell_type": "markdown",
   "metadata": {},
   "source": [
    "# Objectives\n",
    "* YWBAT\n",
    "  * describe the difference between numpy.dot and actual dot products\n",
    "  * describe how to solve a system of equations using linear algebra\n",
    "  * solve a system of equations using linear algebra in numpy\n",
    "  * identify if a matrix is transposed, inversed\n",
    "  * verify (check) the solutions to a system of equations in python"
   ]
  },
  {
   "cell_type": "markdown",
   "metadata": {},
   "source": [
    "# Linear Algebra dot products -> Scalar\n",
    "![](understand-of-linear-algebra-7-728.jpg)"
   ]
  },
  {
   "cell_type": "markdown",
   "metadata": {},
   "source": [
    "# Numpy.dot()\n",
    "```\n",
    "np.dot()\n",
    "```\n",
    "```\n",
    "dot(a, b, out=None)\n",
    "\n",
    "Dot product of two arrays. Specifically,\n",
    "\n",
    "- If both `a` and `b` are 1-D arrays, it is inner product of vectors\n",
    "  (without complex conjugation).\n",
    "\n",
    "- If both `a` and `b` are 2-D arrays, it is matrix multiplication,\n",
    "  but using :func:`matmul` or ``a @ b`` is preferred.\n",
    "\n",
    "- If either `a` or `b` is 0-D (scalar), it is equivalent to :func:`multiply`\n",
    "  and using ``numpy.multiply(a, b)`` or ``a * b`` is preferred.\n",
    "\n",
    "- If `a` is an N-D array and `b` is a 1-D array, it is a sum product over\n",
    "  the last axis of `a` and `b`.\n",
    "\n",
    "- If `a` is an N-D array and `b` is an M-D array (where ``M>=2``), it is a\n",
    "  sum product over the last axis of `a` and the second-to-last axis of `b`::\n",
    "\n",
    "    dot(a, b)[i,j,k,m] = sum(a[i,j,:] * b[k,:,m])\n",
    "\n",
    "\n",
    "Parameters\n",
    "----------\n",
    "a : array_like\n",
    "    First argument.\n",
    "b : array_like\n",
    "    Second argument.\n",
    "out : ndarray, optional\n",
    "    Output argument. This must have the exact kind that would be returned\n",
    "    if it was not used. In particular, it must have the right type, must be\n",
    "    C-contiguous, and its dtype must be the dtype that would be returned\n",
    "    for `dot(a,b)`. This is a performance feature. Therefore, if these\n",
    "    conditions are not met, an exception is raised, instead of attempting\n",
    "    to be flexible.\n",
    "\n",
    "Returns\n",
    "-------\n",
    "output : ndarray\n",
    "    Returns the dot product of `a` and `b`.  If `a` and `b` are both\n",
    "    scalars or both 1-D arrays then a scalar is returned; otherwise\n",
    "    an array is returned.\n",
    "    If `out` is given, then it is returned.\n",
    "```"
   ]
  },
  {
   "cell_type": "code",
   "execution_count": 83,
   "metadata": {},
   "outputs": [],
   "source": [
    "import numpy as np\n",
    "np.random.seed(42)"
   ]
  },
  {
   "cell_type": "code",
   "execution_count": 84,
   "metadata": {},
   "outputs": [
    {
     "data": {
      "text/plain": [
       "array([[7, 4, 8]])"
      ]
     },
     "execution_count": 84,
     "metadata": {},
     "output_type": "execute_result"
    }
   ],
   "source": [
    "# vector a of random integers between 1 and 10 (1, 3)\n",
    "a = np.random.randint(1, 10, size=(1, 3)) # notice I define the 1, not a vector\n",
    "a"
   ]
  },
  {
   "cell_type": "code",
   "execution_count": 85,
   "metadata": {},
   "outputs": [
    {
     "data": {
      "text/plain": [
       "array([[5, 7, 3]])"
      ]
     },
     "execution_count": 85,
     "metadata": {},
     "output_type": "execute_result"
    }
   ],
   "source": [
    "# vector b similar to a\n",
    "b = np.random.randint(1, 10, size=(1, 3)) #notice I define the 1, not a vector\n",
    "b"
   ]
  },
  {
   "cell_type": "code",
   "execution_count": 90,
   "metadata": {},
   "outputs": [
    {
     "data": {
      "text/plain": [
       "87"
      ]
     },
     "execution_count": 90,
     "metadata": {},
     "output_type": "execute_result"
    }
   ],
   "source": [
    "# check the dot product manually\n",
    "5*7 + 7*4 + 3*8"
   ]
  },
  {
   "cell_type": "code",
   "execution_count": 91,
   "metadata": {},
   "outputs": [
    {
     "name": "stdout",
     "output_type": "stream",
     "text": [
      "[[87]]\n",
      "87\n"
     ]
    }
   ],
   "source": [
    "# dot product array output\n",
    "print(a.dot(b.transpose())) # returns an array\n",
    "# grab the scalar by indexing the row and column \n",
    "print(a.dot(b.transpose())[0][0])"
   ]
  },
  {
   "cell_type": "code",
   "execution_count": 94,
   "metadata": {},
   "outputs": [
    {
     "data": {
      "text/plain": [
       "array([3, 6, 5])"
      ]
     },
     "execution_count": 94,
     "metadata": {},
     "output_type": "execute_result"
    }
   ],
   "source": [
    "# create an actual vector\n",
    "aa = np.random.randint(1, 10, size=(3, )) # notice I don't define the 1, not a vector\n",
    "aa\n",
    "\n",
    "# compare aa to a from before\n",
    "# aa is a list (array/vector)\n",
    "# a is a list of lists"
   ]
  },
  {
   "cell_type": "code",
   "execution_count": 108,
   "metadata": {},
   "outputs": [
    {
     "ename": "SyntaxError",
     "evalue": "invalid syntax (<ipython-input-108-59833c075859>, line 1)",
     "output_type": "error",
     "traceback": [
      "\u001b[0;36m  File \u001b[0;32m\"<ipython-input-108-59833c075859>\"\u001b[0;36m, line \u001b[0;32m1\u001b[0m\n\u001b[0;31m    cc = np.random.randint(1, 10, size(, 3)) # will not work because vectors are defined by row dimension and not column dimension\u001b[0m\n\u001b[0m                                       ^\u001b[0m\n\u001b[0;31mSyntaxError\u001b[0m\u001b[0;31m:\u001b[0m invalid syntax\n"
     ]
    }
   ],
   "source": [
    "cc = np.random.randint(1, 10, size(, 3)) # will not work because vectors are defined by row dimension and not column dimension"
   ]
  },
  {
   "cell_type": "code",
   "execution_count": 95,
   "metadata": {},
   "outputs": [
    {
     "data": {
      "text/plain": [
       "array([2, 8, 6])"
      ]
     },
     "execution_count": 95,
     "metadata": {},
     "output_type": "execute_result"
    }
   ],
   "source": [
    "bb = np.random.randint(1, 10, size=(3, )) # notice I don't define the 1, not a vector\n",
    "bb \n",
    "# similarly bb is a list and not a list of lists"
   ]
  },
  {
   "cell_type": "code",
   "execution_count": 96,
   "metadata": {},
   "outputs": [
    {
     "data": {
      "text/plain": [
       "84"
      ]
     },
     "execution_count": 96,
     "metadata": {},
     "output_type": "execute_result"
    }
   ],
   "source": [
    "aa.dot(bb.transpose()) # returns a scalar"
   ]
  },
  {
   "cell_type": "code",
   "execution_count": 98,
   "metadata": {},
   "outputs": [
    {
     "data": {
      "text/plain": [
       "array([[87]])"
      ]
     },
     "execution_count": 98,
     "metadata": {},
     "output_type": "execute_result"
    }
   ],
   "source": [
    "# using np.dot()\n",
    "# we're going to use np.dot() instead of object.dot()\n",
    "np.dot(a, b.transpose())\n",
    "\n",
    "# returns the same as a.dot(b.transpose())"
   ]
  },
  {
   "cell_type": "code",
   "execution_count": 100,
   "metadata": {},
   "outputs": [
    {
     "data": {
      "text/plain": [
       "84"
      ]
     },
     "execution_count": 100,
     "metadata": {},
     "output_type": "execute_result"
    }
   ],
   "source": [
    "# using np.dot()\n",
    "np.dot(aa, bb.transpose())\n",
    "# returns the same as aa.dot(bb.transpose())"
   ]
  },
  {
   "cell_type": "markdown",
   "metadata": {},
   "source": [
    "# Why transpose? \n",
    "## Inner dimensions must match \n",
    "a -> (1, 3)\n",
    "b -? (1, 3)\n",
    "\n",
    "(1, 3) * (1, 3) -> Inner dimensions are 3 and 1"
   ]
  },
  {
   "cell_type": "code",
   "execution_count": 106,
   "metadata": {},
   "outputs": [
    {
     "ename": "ValueError",
     "evalue": "shapes (1,3) and (1,3) not aligned: 3 (dim 1) != 1 (dim 0)",
     "output_type": "error",
     "traceback": [
      "\u001b[0;31m---------------------------------------------------------------------------\u001b[0m",
      "\u001b[0;31mValueError\u001b[0m                                Traceback (most recent call last)",
      "\u001b[0;32m<ipython-input-106-4384694f89da>\u001b[0m in \u001b[0;36m<module>\u001b[0;34m()\u001b[0m\n\u001b[0;32m----> 1\u001b[0;31m \u001b[0ma\u001b[0m\u001b[0;34m.\u001b[0m\u001b[0mdot\u001b[0m\u001b[0;34m(\u001b[0m\u001b[0mb\u001b[0m\u001b[0;34m)\u001b[0m \u001b[0;31m# will not work since inner dimensions don't match\u001b[0m\u001b[0;34m\u001b[0m\u001b[0m\n\u001b[0m",
      "\u001b[0;31mValueError\u001b[0m: shapes (1,3) and (1,3) not aligned: 3 (dim 1) != 1 (dim 0)"
     ]
    }
   ],
   "source": [
    "a.dot(b) # will not work since inner dimensions don't match"
   ]
  },
  {
   "cell_type": "code",
   "execution_count": 105,
   "metadata": {},
   "outputs": [
    {
     "name": "stdout",
     "output_type": "stream",
     "text": [
      "(1, 3)\n",
      "(3, 1)\n"
     ]
    }
   ],
   "source": [
    "# Notice transpose flips the dimensions\n",
    "print(b.shape)\n",
    "print(b.transpose().shape)"
   ]
  },
  {
   "cell_type": "code",
   "execution_count": 115,
   "metadata": {},
   "outputs": [
    {
     "name": "stdout",
     "output_type": "stream",
     "text": [
      "[[7 4 8]]\n",
      "[[5 7 3]]\n",
      "[[35 28 24]]\n",
      "[35 28 24]\n",
      "87\n",
      "87\n"
     ]
    }
   ],
   "source": [
    "# multiplication (python)\n",
    "print(a)\n",
    "print(b)\n",
    "print(a*b) # notice this returns array \n",
    "\n",
    "# comparing dot() to multiplication * in python\n",
    "\n",
    "# how can I get a dot product from this?\n",
    "print(sum(a*b)) # sum a*b gives an array of the first row\n",
    "print(sum(sum(a*b))) # double sum will pull out first row and then sum the elements\n",
    "\n",
    "print(np.sum(a*b)) # np.sum() sums all the elements"
   ]
  },
  {
   "cell_type": "code",
   "execution_count": null,
   "metadata": {},
   "outputs": [],
   "source": [
    "# what does python multiplication do? "
   ]
  },
  {
   "cell_type": "code",
   "execution_count": 116,
   "metadata": {},
   "outputs": [
    {
     "name": "stdout",
     "output_type": "stream",
     "text": [
      "CPU times: user 3 µs, sys: 0 ns, total: 3 µs\n",
      "Wall time: 8.11 µs\n"
     ]
    },
    {
     "data": {
      "text/plain": [
       "array([[35, 28, 24]])"
      ]
     },
     "execution_count": 116,
     "metadata": {},
     "output_type": "execute_result"
    }
   ],
   "source": [
    "# using multiplication (arrays)\n",
    "%time\n",
    "a*b # -> array (list of lists)"
   ]
  },
  {
   "cell_type": "code",
   "execution_count": 117,
   "metadata": {},
   "outputs": [
    {
     "name": "stdout",
     "output_type": "stream",
     "text": [
      "CPU times: user 2 µs, sys: 1 µs, total: 3 µs\n",
      "Wall time: 7.15 µs\n"
     ]
    },
    {
     "data": {
      "text/plain": [
       "array([ 6, 48, 30])"
      ]
     },
     "execution_count": 117,
     "metadata": {},
     "output_type": "execute_result"
    }
   ],
   "source": [
    "# using multiplication (vectors)\n",
    "%time\n",
    "aa*bb # returns an array (just a list)"
   ]
  },
  {
   "cell_type": "markdown",
   "metadata": {},
   "source": [
    "* vector multiplication and matrix multiplication (inner dimensions need to match)\n",
    "* different packages handle multiplication differently\n",
    "    * python multiplication will do element wise multiplication and maintains types\n",
    "    * dot() on vectors returns scalar\n",
    "    * dot() on matrices returns a matrix\n",
    "    * dot() in numpy is different than LinAlg dot because \n",
    "        * covers mult on more than just vectors\n",
    "        * does not always return a scalar"
   ]
  },
  {
   "cell_type": "code",
   "execution_count": 118,
   "metadata": {},
   "outputs": [
    {
     "name": "stdout",
     "output_type": "stream",
     "text": [
      "CPU times: user 3 µs, sys: 1e+03 ns, total: 4 µs\n",
      "Wall time: 7.15 µs\n"
     ]
    },
    {
     "data": {
      "text/plain": [
       "array([[35, 28, 24]])"
      ]
     },
     "execution_count": 118,
     "metadata": {},
     "output_type": "execute_result"
    }
   ],
   "source": [
    "%time\n",
    "np.multiply(a, b) # same as python mult"
   ]
  },
  {
   "cell_type": "code",
   "execution_count": 119,
   "metadata": {},
   "outputs": [
    {
     "name": "stdout",
     "output_type": "stream",
     "text": [
      "CPU times: user 3 µs, sys: 1 µs, total: 4 µs\n",
      "Wall time: 5.96 µs\n"
     ]
    },
    {
     "data": {
      "text/plain": [
       "array([ 6, 48, 30])"
      ]
     },
     "execution_count": 119,
     "metadata": {},
     "output_type": "execute_result"
    }
   ],
   "source": [
    "%time\n",
    "np.multiply(aa, bb)"
   ]
  },
  {
   "cell_type": "markdown",
   "metadata": {},
   "source": [
    "# Systems of Equations / Inverses"
   ]
  },
  {
   "cell_type": "markdown",
   "metadata": {},
   "source": [
    "# Math inverses -> multiply to get 1\n",
    "# Opposites -> add to 0\n",
    "What is the inverse of 3?\n",
    "\n",
    "\n",
    "$ 3*-3 = -9 $ -3 is the opposite of 3 not the inverse\n",
    "\n",
    "\n",
    "$ 3\\frac{1}{3} = 1$ this is an inverse"
   ]
  },
  {
   "cell_type": "markdown",
   "metadata": {},
   "source": [
    "# Inverses\n",
    "$ A^{-1} A = I $"
   ]
  },
  {
   "cell_type": "markdown",
   "metadata": {},
   "source": [
    "# Matrices that don't have inverses\n",
    "* Zero matrices don't have inverses\n",
    "* Matrices who's determinate equals 0 (Scalar name for a matrix)"
   ]
  },
  {
   "cell_type": "code",
   "execution_count": null,
   "metadata": {},
   "outputs": [],
   "source": []
  },
  {
   "cell_type": "code",
   "execution_count": 128,
   "metadata": {},
   "outputs": [
    {
     "name": "stdout",
     "output_type": "stream",
     "text": [
      "[[2 5]\n",
      " [1 6]]\n",
      "[[89]\n",
      " [49]]\n"
     ]
    }
   ],
   "source": [
    "A = np.random.randint(1, 10, size= (2,2))\n",
    "b = np.random.randint(1, 100, size=(2, 1))\n",
    "print(A)\n",
    "print(b)"
   ]
  },
  {
   "cell_type": "markdown",
   "metadata": {},
   "source": [
    "# Systems\n",
    "$ Ax = b $\n",
    "\n",
    "$ A^{-1}Ax = A^{-1}b $\n",
    "\n",
    "$ x = A^{-1}b $\n",
    "\n",
    "\n",
    "what is x? \n",
    "(2, 2) (2, 1) = (2, 1) \n",
    "\n",
    "x is a vector that is 2x1"
   ]
  },
  {
   "cell_type": "code",
   "execution_count": null,
   "metadata": {},
   "outputs": [],
   "source": []
  },
  {
   "cell_type": "code",
   "execution_count": 129,
   "metadata": {},
   "outputs": [
    {
     "data": {
      "text/plain": [
       "array([[ 0.85714286, -0.71428571],\n",
       "       [-0.14285714,  0.28571429]])"
      ]
     },
     "execution_count": 129,
     "metadata": {},
     "output_type": "execute_result"
    }
   ],
   "source": [
    "Ainv = np.linalg.inv(A)\n",
    "Ainv"
   ]
  },
  {
   "cell_type": "code",
   "execution_count": 130,
   "metadata": {},
   "outputs": [],
   "source": [
    "left = Ainv.dot(A)"
   ]
  },
  {
   "cell_type": "code",
   "execution_count": 132,
   "metadata": {},
   "outputs": [
    {
     "data": {
      "text/plain": [
       "array([[41.28571429],\n",
       "       [ 1.28571429]])"
      ]
     },
     "execution_count": 132,
     "metadata": {},
     "output_type": "execute_result"
    }
   ],
   "source": [
    "# solve a system of equations in numpy\n",
    "x_vector = Ainv.dot(b)\n",
    "x_vector"
   ]
  },
  {
   "cell_type": "code",
   "execution_count": 138,
   "metadata": {},
   "outputs": [
    {
     "name": "stdout",
     "output_type": "stream",
     "text": [
      "[[89.]\n",
      " [49.]]\n",
      "[[89]\n",
      " [49]]\n",
      "[[ True]\n",
      " [ True]]\n"
     ]
    }
   ],
   "source": [
    "# check your solution (x_vector)\n",
    "print(A.dot(x_vector))\n",
    "print(b)\n",
    "print(A.dot(x_vector)==b)"
   ]
  },
  {
   "cell_type": "markdown",
   "metadata": {},
   "source": [
    "# this will work every time, right?\n",
    "* Not really, A has to be invertable"
   ]
  },
  {
   "cell_type": "markdown",
   "metadata": {},
   "source": [
    "# Steps to solving a system of equations (Ax = b)\n",
    "* Make sure A has an inverse \n",
    "* solve for x_vector = Ainv.dot(b) \n",
    "* check that ```A.dot(x_vector) == b```"
   ]
  },
  {
   "cell_type": "code",
   "execution_count": null,
   "metadata": {},
   "outputs": [],
   "source": []
  }
 ],
 "metadata": {
  "kernelspec": {
   "display_name": "Python 3",
   "language": "python",
   "name": "python3"
  },
  "language_info": {
   "codemirror_mode": {
    "name": "ipython",
    "version": 3
   },
   "file_extension": ".py",
   "mimetype": "text/x-python",
   "name": "python",
   "nbconvert_exporter": "python",
   "pygments_lexer": "ipython3",
   "version": "3.6.5"
  }
 },
 "nbformat": 4,
 "nbformat_minor": 2
}
