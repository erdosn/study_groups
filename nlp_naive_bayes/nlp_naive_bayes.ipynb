{
 "cells": [
  {
   "cell_type": "markdown",
   "metadata": {},
   "source": [
    "# Objectives\n",
    "* YWBAT parse xml files\n",
    "* YWBAT Create a BOW df\n",
    "* YWBAT Train/Test a MultiNomial Classifier (NB)"
   ]
  },
  {
   "cell_type": "code",
   "execution_count": 77,
   "metadata": {},
   "outputs": [],
   "source": [
    "import json\n",
    "import numpy as np\n",
    "import pandas as pd\n",
    "import glob\n",
    "\n",
    "from sklearn.naive_bayes import MultinomialNB, GaussianNB\n",
    "from sklearn.feature_extraction.text import CountVectorizer\n",
    "from sklearn.feature_extraction.text import ENGLISH_STOP_WORDS\n",
    "from sklearn.decomposition import PCA\n",
    "from bs4 import BeautifulSoup\n",
    "\n",
    "import matplotlib.pyplot as plt"
   ]
  },
  {
   "cell_type": "code",
   "execution_count": 58,
   "metadata": {},
   "outputs": [],
   "source": [
    "files = glob.glob(\"reuters21578/*.sgm\")"
   ]
  },
  {
   "cell_type": "code",
   "execution_count": 3,
   "metadata": {},
   "outputs": [
    {
     "name": "stdout",
     "output_type": "stream",
     "text": [
      "Opening file - reuters21578/reut2-004.sgm\n",
      "Opening file - reuters21578/reut2-010.sgm\n",
      "Opening file - reuters21578/reut2-011.sgm\n",
      "Opening file - reuters21578/reut2-005.sgm\n",
      "Opening file - reuters21578/reut2-013.sgm\n",
      "Opening file - reuters21578/reut2-007.sgm\n",
      "Opening file - reuters21578/reut2-006.sgm\n",
      "Opening file - reuters21578/reut2-012.sgm\n",
      "Opening file - reuters21578/reut2-016.sgm\n",
      "Opening file - reuters21578/reut2-002.sgm\n",
      "Opening file - reuters21578/reut2-003.sgm\n",
      "Opening file - reuters21578/reut2-017.sgm\n",
      "Opening file - reuters21578/reut2-001.sgm\n",
      "Opening file - reuters21578/reut2-015.sgm\n",
      "Opening file - reuters21578/reut2-014.sgm\n",
      "Opening file - reuters21578/reut2-000.sgm\n",
      "Opening file - reuters21578/reut2-019.sgm\n",
      "Opening file - reuters21578/reut2-018.sgm\n",
      "Opening file - reuters21578/reut2-020.sgm\n",
      "Opening file - reuters21578/reut2-008.sgm\n",
      "Opening file - reuters21578/reut2-009.sgm\n",
      "Opening file - reuters21578/reut2-021.sgm\n"
     ]
    }
   ],
   "source": [
    "reuters_list = []\n",
    "for file in files:\n",
    "    print(\"Opening file - {}\".format(file))\n",
    "    try:\n",
    "        f = open(file, 'r').read()\n",
    "        soup = BeautifulSoup(f, \"lxml\")\n",
    "        reuters = soup.find_all(\"reuters\")\n",
    "        for reuter in reuters:\n",
    "            d = dict()\n",
    "            topic = reuter.find(\"topics\")\n",
    "            d[\"topic\"] = topic.text if topic.text is not None else \"nothing\"\n",
    "            d[\"train_test\"] = reuter.attrs[\"lewissplit\"].lower()\n",
    "            date_line = reuter.find(\"text\").find(\"dateline\")\n",
    "            date_line = date_line.text if date_line else 'dateline'\n",
    "            title = reuter.find(\"text\").find(\"title\")\n",
    "            title = title.text if title else \"tiitttle\"\n",
    "            d[\"txt\"] = reuter.find(\"text\").text.replace(title, \"\").replace(date_line, \"\")\n",
    "            reuters_list.append(d)\n",
    "    except:\n",
    "        pass"
   ]
  },
  {
   "cell_type": "code",
   "execution_count": 4,
   "metadata": {},
   "outputs": [],
   "source": [
    "df = pd.DataFrame(reuters_list)"
   ]
  },
  {
   "cell_type": "code",
   "execution_count": 60,
   "metadata": {},
   "outputs": [
    {
     "data": {
      "text/html": [
       "<div>\n",
       "<style scoped>\n",
       "    .dataframe tbody tr th:only-of-type {\n",
       "        vertical-align: middle;\n",
       "    }\n",
       "\n",
       "    .dataframe tbody tr th {\n",
       "        vertical-align: top;\n",
       "    }\n",
       "\n",
       "    .dataframe thead th {\n",
       "        text-align: right;\n",
       "    }\n",
       "</style>\n",
       "<table border=\"1\" class=\"dataframe\">\n",
       "  <thead>\n",
       "    <tr style=\"text-align: right;\">\n",
       "      <th></th>\n",
       "      <th>topic</th>\n",
       "      <th>train_test</th>\n",
       "      <th>txt</th>\n",
       "      <th>topic_category</th>\n",
       "      <th>vec</th>\n",
       "    </tr>\n",
       "  </thead>\n",
       "  <tbody>\n",
       "    <tr>\n",
       "      <th>0</th>\n",
       "      <td></td>\n",
       "      <td>train</td>\n",
       "      <td>\\n\\nInco Ltd said it did not expect its\\nearli...</td>\n",
       "      <td>0</td>\n",
       "      <td>[2.7918600967024747, -0.120579673331519]</td>\n",
       "    </tr>\n",
       "    <tr>\n",
       "      <th>1</th>\n",
       "      <td></td>\n",
       "      <td>train</td>\n",
       "      <td>\\n\\nMason Benson, former president and\\nchief ...</td>\n",
       "      <td>0</td>\n",
       "      <td>[-2.2637614266081556, -1.1942673321327046]</td>\n",
       "    </tr>\n",
       "    <tr>\n",
       "      <th>2</th>\n",
       "      <td></td>\n",
       "      <td>train</td>\n",
       "      <td>\\n\\nIn a discovery that could complicate the\\n...</td>\n",
       "      <td>0</td>\n",
       "      <td>[-0.14117471403925372, -1.9846415052029434]</td>\n",
       "    </tr>\n",
       "    <tr>\n",
       "      <th>3</th>\n",
       "      <td></td>\n",
       "      <td>train</td>\n",
       "      <td>\\n\\nDoctors at the Centers for Disease\\nContro...</td>\n",
       "      <td>0</td>\n",
       "      <td>[0.19896013321065256, -2.0433263988709123]</td>\n",
       "    </tr>\n",
       "    <tr>\n",
       "      <th>4</th>\n",
       "      <td>interestretailipi</td>\n",
       "      <td>train</td>\n",
       "      <td>\\n\\n    By Brad Schade, Reuters\\nU.S. economic...</td>\n",
       "      <td>301</td>\n",
       "      <td>[12.391053935848863, -1.4788300836056565]</td>\n",
       "    </tr>\n",
       "  </tbody>\n",
       "</table>\n",
       "</div>"
      ],
      "text/plain": [
       "               topic train_test  \\\n",
       "0                         train   \n",
       "1                         train   \n",
       "2                         train   \n",
       "3                         train   \n",
       "4  interestretailipi      train   \n",
       "\n",
       "                                                 txt  topic_category  \\\n",
       "0  \\n\\nInco Ltd said it did not expect its\\nearli...               0   \n",
       "1  \\n\\nMason Benson, former president and\\nchief ...               0   \n",
       "2  \\n\\nIn a discovery that could complicate the\\n...               0   \n",
       "3  \\n\\nDoctors at the Centers for Disease\\nContro...               0   \n",
       "4  \\n\\n    By Brad Schade, Reuters\\nU.S. economic...             301   \n",
       "\n",
       "                                           vec  \n",
       "0     [2.7918600967024747, -0.120579673331519]  \n",
       "1   [-2.2637614266081556, -1.1942673321327046]  \n",
       "2  [-0.14117471403925372, -1.9846415052029434]  \n",
       "3   [0.19896013321065256, -2.0433263988709123]  \n",
       "4    [12.391053935848863, -1.4788300836056565]  "
      ]
     },
     "execution_count": 60,
     "metadata": {},
     "output_type": "execute_result"
    }
   ],
   "source": [
    "df.head()"
   ]
  },
  {
   "cell_type": "code",
   "execution_count": 61,
   "metadata": {},
   "outputs": [
    {
     "data": {
      "text/plain": [
       "'\\n\\nInco Ltd said it did not expect its\\nearlier reported removal from the Dow Jones industrial index to\\nmake a major impact on the company\\'s stock.\\n    \"We don\\'t think that individuals or institutions buy our\\nshares because we were one of the Dow Jones industrials,\"\\nspokesman Ken Cherney said in reply to a query.\\n    Inco closed 1-3/8 lower at 19-3/8 in second most active\\ntrading on the Toronto Stock Exchange.\\n    The Wall Street Journal, which selects the index, said Inco\\nwas dropped to make the index more representative of the\\nmarket. Inco, the non-Communist world\\'s largest nickel\\nproducer, was a member of the index since 1928.\\n    Replacing Inco and Owens-Illinois Inc will be Coca-Cola Co\\nand Boeing Co, effective tomorrow.\\n    Nickel analyst Ilmar Martens at Walwyn Stodgell Cochran\\nMurray Ltd said Inco\\'s removal from the index would likely\\nspark short-term selling pressure on the stock.\\n    \"Some investors who have Inco may suddenly say, \\'well,\\nbecause it\\'s not now a Dow stock, we should eliminate that\\ninvestment,\\'\" said Martens, although he added the move was\\nunlikely to have a serious long-term impact on Inco stock.\\n    Inco has struggled in recent years against sharply lower\\nnickel prices. Its net earnings fell to 200,000 U.S. dlrs in\\n1986 from 52.2 mln dlrs the previous year.\\n Reuter\\n'"
      ]
     },
     "execution_count": 61,
     "metadata": {},
     "output_type": "execute_result"
    }
   ],
   "source": [
    "df.txt[0]"
   ]
  },
  {
   "cell_type": "code",
   "execution_count": 62,
   "metadata": {},
   "outputs": [],
   "source": [
    "def clean_text(txt):\n",
    "    punctuation = \"?.';:!()\" + '\"'\n",
    "    txt = txt.split(\"\\n\")\n",
    "    txt = [t.strip(\" \") for t in txt]\n",
    "    txt = \"\\n\".join(txt)\n",
    "    txt = txt.strip(\"\\n\")\n",
    "    txt = txt.replace(\"\\n\", \" \")\n",
    "    for p in punctuation:\n",
    "        txt = txt.replace(p, \"\")\n",
    "    txt = txt.lower()\n",
    "    return txt"
   ]
  },
  {
   "cell_type": "code",
   "execution_count": 63,
   "metadata": {},
   "outputs": [
    {
     "data": {
      "text/plain": [
       "'inco ltd said it did not expect its earlier reported removal from the dow jones industrial index to make a major impact on the companys stock we dont think that individuals or institutions buy our shares because we were one of the dow jones industrials, spokesman ken cherney said in reply to a query inco closed 1-3/8 lower at 19-3/8 in second most active trading on the toronto stock exchange the wall street journal, which selects the index, said inco was dropped to make the index more representative of the market inco, the non-communist worlds largest nickel producer, was a member of the index since 1928 replacing inco and owens-illinois inc will be coca-cola co and boeing co, effective tomorrow nickel analyst ilmar martens at walwyn stodgell cochran murray ltd said incos removal from the index would likely spark short-term selling pressure on the stock some investors who have inco may suddenly say, well, because its not now a dow stock, we should eliminate that investment, said martens, although he added the move was unlikely to have a serious long-term impact on inco stock inco has struggled in recent years against sharply lower nickel prices its net earnings fell to 200,000 us dlrs in 1986 from 522 mln dlrs the previous year reuter'"
      ]
     },
     "execution_count": 63,
     "metadata": {},
     "output_type": "execute_result"
    }
   ],
   "source": [
    "clean_text(df.txt[0])"
   ]
  },
  {
   "cell_type": "code",
   "execution_count": 7,
   "metadata": {},
   "outputs": [],
   "source": [
    "sw = ENGLISH_STOP_WORDS\n",
    "mod_vectorizer = CountVectorizer(stop_words=sw, preprocessor=clean_text)\n",
    "\n",
    "dtm = mod_vectorizer.fit_transform(df.txt).toarray()\n",
    "vocab = np.array(mod_vectorizer.get_feature_names())"
   ]
  },
  {
   "cell_type": "code",
   "execution_count": 8,
   "metadata": {},
   "outputs": [
    {
     "data": {
      "text/plain": [
       "(50725,)"
      ]
     },
     "execution_count": 8,
     "metadata": {},
     "output_type": "execute_result"
    }
   ],
   "source": [
    "vocab.shape"
   ]
  },
  {
   "cell_type": "code",
   "execution_count": 9,
   "metadata": {},
   "outputs": [
    {
     "data": {
      "text/plain": [
       "(20578, 50725)"
      ]
     },
     "execution_count": 9,
     "metadata": {},
     "output_type": "execute_result"
    }
   ],
   "source": [
    "dtm.shape"
   ]
  },
  {
   "cell_type": "code",
   "execution_count": 10,
   "metadata": {},
   "outputs": [
    {
     "data": {
      "text/plain": [
       "(20578, 3)"
      ]
     },
     "execution_count": 10,
     "metadata": {},
     "output_type": "execute_result"
    }
   ],
   "source": [
    "df.shape"
   ]
  },
  {
   "cell_type": "code",
   "execution_count": 11,
   "metadata": {},
   "outputs": [],
   "source": [
    "df_vocab = pd.DataFrame(data=dtm, columns=vocab)"
   ]
  },
  {
   "cell_type": "code",
   "execution_count": 12,
   "metadata": {},
   "outputs": [],
   "source": [
    "df[\"topic\"] = [t.lower().strip() for t in df.topic]\n",
    "df[\"topic\"] = df[\"topic\"].astype('category')\n",
    "df[\"topic_category\"] = df[\"topic\"].cat.codes"
   ]
  },
  {
   "cell_type": "code",
   "execution_count": 13,
   "metadata": {},
   "outputs": [],
   "source": [
    "df_vocab[\"topic_category\"] = df.topic_category"
   ]
  },
  {
   "cell_type": "code",
   "execution_count": 14,
   "metadata": {},
   "outputs": [],
   "source": [
    "df_vocab[\"train_test\"] = df.train_test"
   ]
  },
  {
   "cell_type": "code",
   "execution_count": 15,
   "metadata": {},
   "outputs": [
    {
     "data": {
      "text/html": [
       "<div>\n",
       "<style scoped>\n",
       "    .dataframe tbody tr th:only-of-type {\n",
       "        vertical-align: middle;\n",
       "    }\n",
       "\n",
       "    .dataframe tbody tr th {\n",
       "        vertical-align: top;\n",
       "    }\n",
       "\n",
       "    .dataframe thead th {\n",
       "        text-align: right;\n",
       "    }\n",
       "</style>\n",
       "<table border=\"1\" class=\"dataframe\">\n",
       "  <thead>\n",
       "    <tr style=\"text-align: right;\">\n",
       "      <th></th>\n",
       "      <th>00</th>\n",
       "      <th>000</th>\n",
       "      <th>0000</th>\n",
       "      <th>00000</th>\n",
       "      <th>0001</th>\n",
       "      <th>0003</th>\n",
       "      <th>000501</th>\n",
       "      <th>0006</th>\n",
       "      <th>0006910</th>\n",
       "      <th>0006913</th>\n",
       "      <th>...</th>\n",
       "      <th>zurack</th>\n",
       "      <th>zurich</th>\n",
       "      <th>zurn</th>\n",
       "      <th>zuyuan</th>\n",
       "      <th>zverev</th>\n",
       "      <th>zweig</th>\n",
       "      <th>zwermann</th>\n",
       "      <th>zy</th>\n",
       "      <th>topic_category</th>\n",
       "      <th>train_test</th>\n",
       "    </tr>\n",
       "  </thead>\n",
       "  <tbody>\n",
       "    <tr>\n",
       "      <th>0</th>\n",
       "      <td>0</td>\n",
       "      <td>1</td>\n",
       "      <td>0</td>\n",
       "      <td>0</td>\n",
       "      <td>0</td>\n",
       "      <td>0</td>\n",
       "      <td>0</td>\n",
       "      <td>0</td>\n",
       "      <td>0</td>\n",
       "      <td>0</td>\n",
       "      <td>...</td>\n",
       "      <td>0</td>\n",
       "      <td>0</td>\n",
       "      <td>0</td>\n",
       "      <td>0</td>\n",
       "      <td>0</td>\n",
       "      <td>0</td>\n",
       "      <td>0</td>\n",
       "      <td>0</td>\n",
       "      <td>0</td>\n",
       "      <td>train</td>\n",
       "    </tr>\n",
       "    <tr>\n",
       "      <th>1</th>\n",
       "      <td>0</td>\n",
       "      <td>1</td>\n",
       "      <td>0</td>\n",
       "      <td>0</td>\n",
       "      <td>0</td>\n",
       "      <td>0</td>\n",
       "      <td>0</td>\n",
       "      <td>0</td>\n",
       "      <td>0</td>\n",
       "      <td>0</td>\n",
       "      <td>...</td>\n",
       "      <td>0</td>\n",
       "      <td>0</td>\n",
       "      <td>0</td>\n",
       "      <td>0</td>\n",
       "      <td>0</td>\n",
       "      <td>0</td>\n",
       "      <td>0</td>\n",
       "      <td>0</td>\n",
       "      <td>0</td>\n",
       "      <td>train</td>\n",
       "    </tr>\n",
       "    <tr>\n",
       "      <th>2</th>\n",
       "      <td>0</td>\n",
       "      <td>0</td>\n",
       "      <td>0</td>\n",
       "      <td>0</td>\n",
       "      <td>0</td>\n",
       "      <td>0</td>\n",
       "      <td>0</td>\n",
       "      <td>0</td>\n",
       "      <td>0</td>\n",
       "      <td>0</td>\n",
       "      <td>...</td>\n",
       "      <td>0</td>\n",
       "      <td>0</td>\n",
       "      <td>0</td>\n",
       "      <td>0</td>\n",
       "      <td>0</td>\n",
       "      <td>0</td>\n",
       "      <td>0</td>\n",
       "      <td>0</td>\n",
       "      <td>0</td>\n",
       "      <td>train</td>\n",
       "    </tr>\n",
       "    <tr>\n",
       "      <th>3</th>\n",
       "      <td>0</td>\n",
       "      <td>0</td>\n",
       "      <td>0</td>\n",
       "      <td>0</td>\n",
       "      <td>0</td>\n",
       "      <td>0</td>\n",
       "      <td>0</td>\n",
       "      <td>0</td>\n",
       "      <td>0</td>\n",
       "      <td>0</td>\n",
       "      <td>...</td>\n",
       "      <td>0</td>\n",
       "      <td>0</td>\n",
       "      <td>0</td>\n",
       "      <td>0</td>\n",
       "      <td>0</td>\n",
       "      <td>0</td>\n",
       "      <td>0</td>\n",
       "      <td>0</td>\n",
       "      <td>0</td>\n",
       "      <td>train</td>\n",
       "    </tr>\n",
       "    <tr>\n",
       "      <th>4</th>\n",
       "      <td>0</td>\n",
       "      <td>0</td>\n",
       "      <td>0</td>\n",
       "      <td>0</td>\n",
       "      <td>0</td>\n",
       "      <td>0</td>\n",
       "      <td>0</td>\n",
       "      <td>0</td>\n",
       "      <td>0</td>\n",
       "      <td>0</td>\n",
       "      <td>...</td>\n",
       "      <td>0</td>\n",
       "      <td>0</td>\n",
       "      <td>0</td>\n",
       "      <td>0</td>\n",
       "      <td>0</td>\n",
       "      <td>0</td>\n",
       "      <td>0</td>\n",
       "      <td>0</td>\n",
       "      <td>301</td>\n",
       "      <td>train</td>\n",
       "    </tr>\n",
       "  </tbody>\n",
       "</table>\n",
       "<p>5 rows × 50727 columns</p>\n",
       "</div>"
      ],
      "text/plain": [
       "   00  000  0000  00000  0001  0003  000501  0006  0006910  0006913  \\\n",
       "0   0    1     0      0     0     0       0     0        0        0   \n",
       "1   0    1     0      0     0     0       0     0        0        0   \n",
       "2   0    0     0      0     0     0       0     0        0        0   \n",
       "3   0    0     0      0     0     0       0     0        0        0   \n",
       "4   0    0     0      0     0     0       0     0        0        0   \n",
       "\n",
       "      ...      zurack  zurich  zurn  zuyuan  zverev  zweig  zwermann  zy  \\\n",
       "0     ...           0       0     0       0       0      0         0   0   \n",
       "1     ...           0       0     0       0       0      0         0   0   \n",
       "2     ...           0       0     0       0       0      0         0   0   \n",
       "3     ...           0       0     0       0       0      0         0   0   \n",
       "4     ...           0       0     0       0       0      0         0   0   \n",
       "\n",
       "   topic_category  train_test  \n",
       "0               0       train  \n",
       "1               0       train  \n",
       "2               0       train  \n",
       "3               0       train  \n",
       "4             301       train  \n",
       "\n",
       "[5 rows x 50727 columns]"
      ]
     },
     "execution_count": 15,
     "metadata": {},
     "output_type": "execute_result"
    }
   ],
   "source": [
    "df_vocab.head()"
   ]
  },
  {
   "cell_type": "code",
   "execution_count": 16,
   "metadata": {},
   "outputs": [],
   "source": [
    "X_train = df_vocab[df[\"train_test\"]==\"train\"].drop(labels=[\"topic_category\", \"train_test\"], axis=1)\n",
    "y_train = df_vocab[df[\"train_test\"]==\"train\"][\"topic_category\"]"
   ]
  },
  {
   "cell_type": "code",
   "execution_count": 17,
   "metadata": {},
   "outputs": [],
   "source": [
    "X_test = df_vocab[df[\"train_test\"]==\"test\"].drop(labels=[\"topic_category\", \"train_test\"], axis=1)\n",
    "y_test = df_vocab[df[\"train_test\"]==\"test\"][\"topic_category\"]"
   ]
  },
  {
   "cell_type": "code",
   "execution_count": 18,
   "metadata": {},
   "outputs": [],
   "source": [
    "nb = MultinomialNB()"
   ]
  },
  {
   "cell_type": "code",
   "execution_count": 19,
   "metadata": {},
   "outputs": [
    {
     "data": {
      "text/plain": [
       "MultinomialNB(alpha=1.0, class_prior=None, fit_prior=True)"
      ]
     },
     "execution_count": 19,
     "metadata": {},
     "output_type": "execute_result"
    }
   ],
   "source": [
    "nb.fit(X_train, y_train)"
   ]
  },
  {
   "cell_type": "code",
   "execution_count": 20,
   "metadata": {},
   "outputs": [
    {
     "data": {
      "text/plain": [
       "0.6668453976764969"
      ]
     },
     "execution_count": 20,
     "metadata": {},
     "output_type": "execute_result"
    }
   ],
   "source": [
    "nb.score(X_test, y_test)"
   ]
  },
  {
   "cell_type": "code",
   "execution_count": 22,
   "metadata": {},
   "outputs": [],
   "source": [
    "pca = PCA(n_components=2)"
   ]
  },
  {
   "cell_type": "code",
   "execution_count": 24,
   "metadata": {},
   "outputs": [],
   "source": [
    "vecs = pca.fit_transform(df_vocab.drop(axis=1, labels=[\"topic_category\", \"train_test\"]))"
   ]
  },
  {
   "cell_type": "code",
   "execution_count": 27,
   "metadata": {},
   "outputs": [
    {
     "data": {
      "text/plain": [
       "0      9801\n",
       "101    3897\n",
       "Name: topic_category, dtype: int64"
      ]
     },
     "execution_count": 27,
     "metadata": {},
     "output_type": "execute_result"
    }
   ],
   "source": [
    "df_vocab[\"topic_category\"].value_counts()[0:2]"
   ]
  },
  {
   "cell_type": "code",
   "execution_count": 29,
   "metadata": {},
   "outputs": [
    {
     "data": {
      "text/plain": [
       "        9801\n",
       "earn    3897\n",
       "Name: topic, dtype: int64"
      ]
     },
     "execution_count": 29,
     "metadata": {},
     "output_type": "execute_result"
    }
   ],
   "source": [
    "df.topic.value_counts()[0:2]"
   ]
  },
  {
   "cell_type": "code",
   "execution_count": 32,
   "metadata": {},
   "outputs": [
    {
     "data": {
      "text/plain": [
       "(20578, 2)"
      ]
     },
     "execution_count": 32,
     "metadata": {},
     "output_type": "execute_result"
    }
   ],
   "source": [
    "vecs.shape"
   ]
  },
  {
   "cell_type": "code",
   "execution_count": 50,
   "metadata": {},
   "outputs": [
    {
     "data": {
      "text/html": [
       "<div>\n",
       "<style scoped>\n",
       "    .dataframe tbody tr th:only-of-type {\n",
       "        vertical-align: middle;\n",
       "    }\n",
       "\n",
       "    .dataframe tbody tr th {\n",
       "        vertical-align: top;\n",
       "    }\n",
       "\n",
       "    .dataframe thead th {\n",
       "        text-align: right;\n",
       "    }\n",
       "</style>\n",
       "<table border=\"1\" class=\"dataframe\">\n",
       "  <thead>\n",
       "    <tr style=\"text-align: right;\">\n",
       "      <th></th>\n",
       "      <th>topic</th>\n",
       "      <th>train_test</th>\n",
       "      <th>txt</th>\n",
       "      <th>topic_category</th>\n",
       "      <th>vec</th>\n",
       "    </tr>\n",
       "  </thead>\n",
       "  <tbody>\n",
       "    <tr>\n",
       "      <th>0</th>\n",
       "      <td></td>\n",
       "      <td>train</td>\n",
       "      <td>\\n\\nInco Ltd said it did not expect its\\nearli...</td>\n",
       "      <td>0</td>\n",
       "      <td>[2.7918600967024747, -0.120579673331519]</td>\n",
       "    </tr>\n",
       "    <tr>\n",
       "      <th>1</th>\n",
       "      <td></td>\n",
       "      <td>train</td>\n",
       "      <td>\\n\\nMason Benson, former president and\\nchief ...</td>\n",
       "      <td>0</td>\n",
       "      <td>[-2.2637614266081556, -1.1942673321327046]</td>\n",
       "    </tr>\n",
       "    <tr>\n",
       "      <th>2</th>\n",
       "      <td></td>\n",
       "      <td>train</td>\n",
       "      <td>\\n\\nIn a discovery that could complicate the\\n...</td>\n",
       "      <td>0</td>\n",
       "      <td>[-0.14117471403925372, -1.9846415052029434]</td>\n",
       "    </tr>\n",
       "    <tr>\n",
       "      <th>3</th>\n",
       "      <td></td>\n",
       "      <td>train</td>\n",
       "      <td>\\n\\nDoctors at the Centers for Disease\\nContro...</td>\n",
       "      <td>0</td>\n",
       "      <td>[0.19896013321065256, -2.0433263988709123]</td>\n",
       "    </tr>\n",
       "    <tr>\n",
       "      <th>5</th>\n",
       "      <td></td>\n",
       "      <td>train</td>\n",
       "      <td>\\n\\nThe Reagan administration,\\nresponding to ...</td>\n",
       "      <td>0</td>\n",
       "      <td>[1.9683588186667766, -2.1856799453021414]</td>\n",
       "    </tr>\n",
       "  </tbody>\n",
       "</table>\n",
       "</div>"
      ],
      "text/plain": [
       "  topic train_test                                                txt  \\\n",
       "0            train  \\n\\nInco Ltd said it did not expect its\\nearli...   \n",
       "1            train  \\n\\nMason Benson, former president and\\nchief ...   \n",
       "2            train  \\n\\nIn a discovery that could complicate the\\n...   \n",
       "3            train  \\n\\nDoctors at the Centers for Disease\\nContro...   \n",
       "5            train  \\n\\nThe Reagan administration,\\nresponding to ...   \n",
       "\n",
       "   topic_category                                          vec  \n",
       "0               0     [2.7918600967024747, -0.120579673331519]  \n",
       "1               0   [-2.2637614266081556, -1.1942673321327046]  \n",
       "2               0  [-0.14117471403925372, -1.9846415052029434]  \n",
       "3               0   [0.19896013321065256, -2.0433263988709123]  \n",
       "5               0    [1.9683588186667766, -2.1856799453021414]  "
      ]
     },
     "execution_count": 50,
     "metadata": {},
     "output_type": "execute_result"
    }
   ],
   "source": [
    "top2.head()"
   ]
  },
  {
   "cell_type": "code",
   "execution_count": 33,
   "metadata": {},
   "outputs": [],
   "source": [
    "vec_insert = [v for v in vecs]"
   ]
  },
  {
   "cell_type": "code",
   "execution_count": 36,
   "metadata": {},
   "outputs": [],
   "source": [
    "df[\"vec\"] = vec_insert"
   ]
  },
  {
   "cell_type": "code",
   "execution_count": 37,
   "metadata": {},
   "outputs": [],
   "source": [
    "df.iloc[(df)]"
   ]
  },
  {
   "cell_type": "code",
   "execution_count": 49,
   "metadata": {},
   "outputs": [],
   "source": [
    "top2 = df[df[\"topic_category\"]<=1]"
   ]
  },
  {
   "cell_type": "code",
   "execution_count": 40,
   "metadata": {},
   "outputs": [],
   "source": [
    "color_dict={0:'b', 1:'r'}"
   ]
  },
  {
   "cell_type": "code",
   "execution_count": null,
   "metadata": {},
   "outputs": [],
   "source": [
    "fig = plt.figure(figsize=(10, 10))\n",
    "for vec, category, topic in zip(top2.vec, top2.topic_category, top2.topic):\n",
    "    label = topic if topic is not None else \"Zero\"\n",
    "    plt.scatter(vec[0], vec[1], c=color_dict[category], label=topic, alpha=0.5)\n",
    "plt.legend()\n",
    "plt.show()"
   ]
  },
  {
   "cell_type": "code",
   "execution_count": 75,
   "metadata": {},
   "outputs": [
    {
     "data": {
      "text/plain": [
       "599"
      ]
     },
     "execution_count": 75,
     "metadata": {},
     "output_type": "execute_result"
    }
   ],
   "source": [
    "len(df.topic.unique())"
   ]
  },
  {
   "cell_type": "code",
   "execution_count": null,
   "metadata": {},
   "outputs": [],
   "source": [
    "topic_dict = {\"econ\": [\"econ\", \"retail\"]}"
   ]
  },
  {
   "cell_type": "code",
   "execution_count": null,
   "metadata": {},
   "outputs": [],
   "source": [
    "models = []\n",
    "for topic in df.topic.unique():\n",
    "    ones = df[df[\"topic\"] == topic] # ylabel=1\n",
    "    zeros = df[df[\"topic\"] != topic] # ylabel=0\n",
    "    label = [1 if t==topic else 0 for t in df.topic]\n",
    "    nb = GaussianNB()\n",
    "    x = # slice from df\n",
    "    y = # slice from df\n",
    "    # train-test-split\n",
    "    #fit and score\n",
    "    models.append(nb)\n",
    "    \n",
    "    # creates a list of 600 models"
   ]
  },
  {
   "cell_type": "code",
   "execution_count": null,
   "metadata": {},
   "outputs": [],
   "source": [
    "for text in df.txt:\n",
    "    c = []\n",
    "    for model in models:\n",
    "        p = model.predict(text)\n",
    "        model.confidence()\n",
    "        c.append(confidence)\n",
    "        # normalization "
   ]
  }
 ],
 "metadata": {
  "kernelspec": {
   "display_name": "Python 3",
   "language": "python",
   "name": "python3"
  },
  "language_info": {
   "codemirror_mode": {
    "name": "ipython",
    "version": 3
   },
   "file_extension": ".py",
   "mimetype": "text/x-python",
   "name": "python",
   "nbconvert_exporter": "python",
   "pygments_lexer": "ipython3",
   "version": "3.6.5"
  }
 },
 "nbformat": 4,
 "nbformat_minor": 2
}
