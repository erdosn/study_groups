{
 "cells": [
  {
   "cell_type": "code",
   "execution_count": 47,
   "metadata": {},
   "outputs": [],
   "source": [
    "import scipy.stats as stats\n",
    "import numpy as np"
   ]
  },
  {
   "cell_type": "markdown",
   "metadata": {},
   "source": [
    "# Objectives\n",
    "* YWBAT list the steps of hypothesis testing\n",
    "* YWBAT Run hypothesis testing in python\n",
    "* YWBAT interpret a pvalue"
   ]
  },
  {
   "cell_type": "markdown",
   "metadata": {},
   "source": [
    "Problem 1\n",
    "\n",
    "The UNC System administration is hearing complaints from students and parents about\n",
    "the rising cost of textbooks. Financial aid officers from the 16 campuses agree that 300 dollars per semester for textbooks is a critical “breakpoint” for full-time undergraduate students; when textbook costs exceed 300 dollars per semester, a student's finances are significantly stressed. There is concern that the mean textbook cost per semester for full-time undergraduate students, is greater than 300 dollars. \n",
    "\n",
    "To evaluate the situation, a random sampleof 25 full-time undergraduate students in the UNC System is selected and asked theirtextbook costs for the current semester; the costs are shown below. Use this data to testthe hypothesis that the mean semester textbook cost for full-time undergraduate students exceeds 300 dollars.\n",
    "\n",
    "\n",
    "Data = 350, 375, 333, 275, 375, 425, 258, 365, 285, 305, 318, 225, 410, 295, 300, 345,\n",
    "315, 272, 300, 375, 287, 325, 245, 250, 400.\n",
    "\n",
    "\n",
    "H0 -> mu == 300\n",
    "\n",
    "HA -> mu > 300"
   ]
  },
  {
   "cell_type": "code",
   "execution_count": 50,
   "metadata": {},
   "outputs": [],
   "source": [
    "data =  np.array([350, 375, 333, 275, 375, 425, 258, 365, 285, 305, 318, 225, 410, 295, 300, 345,\n",
    "315, 272, 300, 375, 287, 325, 245, 250, 400])"
   ]
  },
  {
   "cell_type": "code",
   "execution_count": 51,
   "metadata": {},
   "outputs": [
    {
     "name": "stdout",
     "output_type": "stream",
     "text": [
      "320.32 54.028325904103305\n"
     ]
    }
   ],
   "source": [
    "mu = data.mean()\n",
    "std = data.std(ddof=1) # ddof = 1, because the data is a sample population and not the entire population\n",
    "print(mu, std)"
   ]
  },
  {
   "cell_type": "code",
   "execution_count": 52,
   "metadata": {},
   "outputs": [
    {
     "data": {
      "text/plain": [
       "'\\nH0 = mu == 300\\nHA = mu > 300\\n'"
      ]
     },
     "execution_count": 52,
     "metadata": {},
     "output_type": "execute_result"
    }
   ],
   "source": [
    "\"\"\"\n",
    "H0 = mu == 300\n",
    "HA = mu > 300\n",
    "\"\"\""
   ]
  },
  {
   "cell_type": "code",
   "execution_count": 60,
   "metadata": {},
   "outputs": [
    {
     "name": "stdout",
     "output_type": "stream",
     "text": [
      "1.8804950606897062 0.07223055072546887\n"
     ]
    }
   ],
   "source": [
    "t, p = stats.ttest_1samp(data, popmean=300)\n",
    "print(t, p) # pvalue = 0.722 -> two sided test, but we're running a one sided test"
   ]
  },
  {
   "cell_type": "code",
   "execution_count": 61,
   "metadata": {},
   "outputs": [
    {
     "data": {
      "text/plain": [
       "0.036115275362734435"
      ]
     },
     "execution_count": 61,
     "metadata": {},
     "output_type": "execute_result"
    }
   ],
   "source": [
    "p = p/2 # one sided ttest\n",
    "p"
   ]
  },
  {
   "cell_type": "code",
   "execution_count": 62,
   "metadata": {},
   "outputs": [
    {
     "name": "stdout",
     "output_type": "stream",
     "text": [
      "HA = mu0 > 300\n"
     ]
    }
   ],
   "source": [
    "if p < 0.05:\n",
    "    print(\"HA = mu0 > 300\")\n",
    "else:\n",
    "    print(\"H0 = mu0 == 300\")"
   ]
  },
  {
   "cell_type": "code",
   "execution_count": null,
   "metadata": {},
   "outputs": [],
   "source": []
  },
  {
   "cell_type": "code",
   "execution_count": null,
   "metadata": {},
   "outputs": [],
   "source": []
  },
  {
   "cell_type": "markdown",
   "metadata": {},
   "source": [
    "Problem 2\n",
    "\n",
    "\n",
    "USA Today reported that the state with the longest mean life span is Hawaii, where the population mean life span is 77 years. A random sample of 20 obituary notices in the Honolulu Advertiser gave the following information about life span (in years) of Honolulu residents:\n",
    "\n",
    "\n",
    "72\t68\t81\t93\t56\t19\t78\t94\t83\t84\t\n",
    "77\t69\t85\t97\t75\t71\t86\t47\t66\t88\t\n",
    "\n",
    "\n",
    "Assuming that life span in Honolulu is normally distributed; does this information indicate that the population mean life span for Honolulu residents is less than 77 years? Use a 5% level of significance.\n"
   ]
  },
  {
   "cell_type": "code",
   "execution_count": 64,
   "metadata": {},
   "outputs": [
    {
     "data": {
      "text/plain": [
       "'\\nH0 = mu == 77\\nHA = mu < 77\\n'"
      ]
     },
     "execution_count": 64,
     "metadata": {},
     "output_type": "execute_result"
    }
   ],
   "source": [
    "\"\"\"\n",
    "H0 = mu == 77\n",
    "HA = mu < 77\n",
    "\"\"\""
   ]
  },
  {
   "cell_type": "code",
   "execution_count": 65,
   "metadata": {},
   "outputs": [
    {
     "name": "stdout",
     "output_type": "stream",
     "text": [
      "[72 68 81 93 56 19 78 94 83 84 77 69 85 97 75 71 86 47 66 88]\n"
     ]
    }
   ],
   "source": [
    "data = \"72 68 81 93 56 19 78 94 83 84 77 69 85 97 75 71 86 47 66 88\".split(' ')\n",
    "data = np.array([int(i) for i in data])\n",
    "print(data)"
   ]
  },
  {
   "cell_type": "code",
   "execution_count": 66,
   "metadata": {},
   "outputs": [
    {
     "name": "stdout",
     "output_type": "stream",
     "text": [
      "74.45 18.091798083516654\n"
     ]
    }
   ],
   "source": [
    "mu = data.mean()\n",
    "std = data.std(ddof=1)\n",
    "print(mu, std)"
   ]
  },
  {
   "cell_type": "code",
   "execution_count": 68,
   "metadata": {},
   "outputs": [
    {
     "data": {
      "text/plain": [
       "0.535981904807004"
      ]
     },
     "execution_count": 68,
     "metadata": {},
     "output_type": "execute_result"
    }
   ],
   "source": [
    "t, p = stats.ttest_1samp(data, 77)\n",
    "p"
   ]
  },
  {
   "cell_type": "code",
   "execution_count": 69,
   "metadata": {},
   "outputs": [
    {
     "data": {
      "text/plain": [
       "0.267990952403502"
      ]
     },
     "execution_count": 69,
     "metadata": {},
     "output_type": "execute_result"
    }
   ],
   "source": [
    "p/2"
   ]
  },
  {
   "cell_type": "code",
   "execution_count": 77,
   "metadata": {},
   "outputs": [
    {
     "name": "stdout",
     "output_type": "stream",
     "text": [
      "H0 = mu0 == 77\n"
     ]
    }
   ],
   "source": [
    "if p < 0.05:\n",
    "    print(\"HA = mu0 < 77\")\n",
    "else:\n",
    "    print(\"H0 = mu0 == 77\")"
   ]
  },
  {
   "cell_type": "code",
   "execution_count": 73,
   "metadata": {},
   "outputs": [],
   "source": [
    "data_ = np.array([i for i in data if i !=19])"
   ]
  },
  {
   "cell_type": "code",
   "execution_count": 74,
   "metadata": {},
   "outputs": [
    {
     "name": "stdout",
     "output_type": "stream",
     "text": [
      "77.36842105263158 12.872065043322776\n"
     ]
    }
   ],
   "source": [
    "mu = data_.mean()\n",
    "std = data_.std(ddof=1)\n",
    "print(mu, std)"
   ]
  },
  {
   "cell_type": "code",
   "execution_count": 75,
   "metadata": {},
   "outputs": [
    {
     "data": {
      "text/plain": [
       "0.9020968435651694"
      ]
     },
     "execution_count": 75,
     "metadata": {},
     "output_type": "execute_result"
    }
   ],
   "source": [
    "t_, p_ = stats.ttest_1samp(data_, 77)\n",
    "p_"
   ]
  },
  {
   "cell_type": "code",
   "execution_count": 76,
   "metadata": {},
   "outputs": [
    {
     "data": {
      "text/plain": [
       "0.4510484217825847"
      ]
     },
     "execution_count": 76,
     "metadata": {},
     "output_type": "execute_result"
    }
   ],
   "source": [
    "p_/2"
   ]
  },
  {
   "cell_type": "code",
   "execution_count": null,
   "metadata": {},
   "outputs": [],
   "source": []
  },
  {
   "cell_type": "code",
   "execution_count": null,
   "metadata": {},
   "outputs": [],
   "source": []
  },
  {
   "cell_type": "code",
   "execution_count": null,
   "metadata": {},
   "outputs": [],
   "source": []
  },
  {
   "cell_type": "code",
   "execution_count": null,
   "metadata": {},
   "outputs": [],
   "source": []
  },
  {
   "cell_type": "code",
   "execution_count": null,
   "metadata": {},
   "outputs": [],
   "source": []
  },
  {
   "cell_type": "code",
   "execution_count": 45,
   "metadata": {},
   "outputs": [
    {
     "data": {
      "text/plain": [
       "'\\nH0 = data1.mean() == data2.mean()\\nHA = data2.mean() < data1.mean()\\n'"
      ]
     },
     "execution_count": 45,
     "metadata": {},
     "output_type": "execute_result"
    }
   ],
   "source": [
    "\"\"\"\n",
    "H0 = data1.mean() == data2.mean()\n",
    "HA = data2.mean() < data1.mean()\n",
    "\"\"\""
   ]
  },
  {
   "cell_type": "code",
   "execution_count": 78,
   "metadata": {},
   "outputs": [],
   "source": [
    "data1=np.array([186, 181, 176, 149, 184, 190, 158, 139, 175, 148, 152, 111, 141, \n",
    "       153, 190, 157, 131, 149, 135, 132]) #beef franks"
   ]
  },
  {
   "cell_type": "code",
   "execution_count": 79,
   "metadata": {},
   "outputs": [],
   "source": [
    "data2=np.array([129, 132, 102, 106, 94, 102, 87, 99, \n",
    "                170, 113, 135, 142, 86, 143, 152, 146, 144]) # poultry"
   ]
  },
  {
   "cell_type": "code",
   "execution_count": 80,
   "metadata": {},
   "outputs": [],
   "source": [
    "mu1 = data1.mean()\n",
    "std1 = data1.std(ddof=1)\n",
    "mu2 = data2.mean()\n",
    "std2 = data2.std(ddof=1)\n",
    "n1 = len(data1)\n",
    "n2 = len(data2)"
   ]
  },
  {
   "cell_type": "code",
   "execution_count": 81,
   "metadata": {},
   "outputs": [
    {
     "name": "stdout",
     "output_type": "stream",
     "text": [
      "156.85 22.642008000965582\n",
      "122.47058823529412 25.483125904848347\n"
     ]
    }
   ],
   "source": [
    "print(mu1, std1)\n",
    "print(mu2,std2)"
   ]
  },
  {
   "cell_type": "code",
   "execution_count": 82,
   "metadata": {},
   "outputs": [],
   "source": [
    "num = (len(data1)-1)*std1**2 + (len(data2)-1)*std2**2\n",
    "den = len(data1) + len(data2) - 2\n",
    "pooled_std = np.sqrt(num/den)"
   ]
  },
  {
   "cell_type": "code",
   "execution_count": 83,
   "metadata": {},
   "outputs": [
    {
     "data": {
      "text/plain": [
       "23.98260398950971"
      ]
     },
     "execution_count": 83,
     "metadata": {},
     "output_type": "execute_result"
    }
   ],
   "source": [
    "pooled_std"
   ]
  },
  {
   "cell_type": "code",
   "execution_count": 84,
   "metadata": {},
   "outputs": [],
   "source": [
    "se = pooled_std*np.sqrt((n2+n1)/(n1*n2)) # sqrt(1/n1 + 1/n2)"
   ]
  },
  {
   "cell_type": "code",
   "execution_count": 85,
   "metadata": {},
   "outputs": [
    {
     "data": {
      "text/plain": [
       "7.911480095471267"
      ]
     },
     "execution_count": 85,
     "metadata": {},
     "output_type": "execute_result"
    }
   ],
   "source": [
    "se"
   ]
  },
  {
   "cell_type": "code",
   "execution_count": 86,
   "metadata": {},
   "outputs": [],
   "source": [
    "t = (mu1-mu2)/se"
   ]
  },
  {
   "cell_type": "code",
   "execution_count": 87,
   "metadata": {},
   "outputs": [
    {
     "data": {
      "text/plain": [
       "4.345509481138116"
      ]
     },
     "execution_count": 87,
     "metadata": {},
     "output_type": "execute_result"
    }
   ],
   "source": [
    "t"
   ]
  },
  {
   "cell_type": "code",
   "execution_count": 91,
   "metadata": {},
   "outputs": [],
   "source": [
    "t, p = stats.ttest_ind(data1, data2)"
   ]
  },
  {
   "cell_type": "code",
   "execution_count": 92,
   "metadata": {},
   "outputs": [
    {
     "name": "stdout",
     "output_type": "stream",
     "text": [
      "HA: mu2 < mu1\n"
     ]
    }
   ],
   "source": [
    "if p<0.05:\n",
    "    print(\"HA: mu2 < mu1\")\n",
    "else:\n",
    "    print(\"H0: m2==m1\")"
   ]
  },
  {
   "cell_type": "code",
   "execution_count": 94,
   "metadata": {},
   "outputs": [],
   "source": [
    "# H0: mu1 = mu2\n",
    "# HA: m1 < mu2\n",
    "\n",
    "# m1 -> people who have worked less than 10 years\n",
    "# m2 -> people who have worked greater than or equal to 10 years"
   ]
  },
  {
   "cell_type": "code",
   "execution_count": null,
   "metadata": {},
   "outputs": [],
   "source": []
  }
 ],
 "metadata": {
  "kernelspec": {
   "display_name": "Python 3",
   "language": "python",
   "name": "python3"
  },
  "language_info": {
   "codemirror_mode": {
    "name": "ipython",
    "version": 3
   },
   "file_extension": ".py",
   "mimetype": "text/x-python",
   "name": "python",
   "nbconvert_exporter": "python",
   "pygments_lexer": "ipython3",
   "version": "3.6.5"
  }
 },
 "nbformat": 4,
 "nbformat_minor": 2
}
